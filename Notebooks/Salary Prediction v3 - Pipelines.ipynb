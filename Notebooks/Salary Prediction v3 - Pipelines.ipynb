{
 "cells": [
  {
   "cell_type": "code",
   "execution_count": 1,
   "metadata": {
    "ExecuteTime": {
     "end_time": "2020-02-04T15:21:15.113764Z",
     "start_time": "2020-02-04T15:21:09.437818Z"
    }
   },
   "outputs": [],
   "source": [
    "#import your libraries\n",
    "import pandas as pd\n",
    "import numpy as np\n",
    "import matplotlib.pyplot as plt\n",
    "import seaborn as sns\n",
    "from sklearn.metrics import mean_squared_error\n",
    "from sklearn.preprocessing import PolynomialFeatures,StandardScaler, OrdinalEncoder, LabelEncoder,KBinsDiscretizer,OneHotEncoder\n",
    "from sklearn.model_selection import train_test_split\n",
    "from sklearn.ensemble import RandomForestRegressor\n",
    "from sklearn.linear_model import LinearRegression,ElasticNetCV,RidgeCV\n",
    "from sklearn.model_selection import cross_validate,RandomizedSearchCV\n",
    "import xgboost as xgb\n",
    "import lightgbm as lgb\n",
    "\n",
    "from sklearn.pipeline import Pipeline\n",
    "from sklearn.compose import ColumnTransformer\n",
    "\n",
    "\n",
    "__author__ = \"Jared Teerlink\"\n",
    "__email__ = \"jteerlink@gmail.com\""
   ]
  },
  {
   "cell_type": "code",
   "execution_count": 2,
   "metadata": {
    "ExecuteTime": {
     "end_time": "2020-02-04T15:21:17.036725Z",
     "start_time": "2020-02-04T15:21:15.115682Z"
    }
   },
   "outputs": [],
   "source": [
    "#load the data into a Pandas dataframe\n",
    "train_features = pd.read_csv('../Data/train_features.csv')\n",
    "train_salaries = pd.read_csv('../Data/train_salaries.csv')\n",
    "# test_features = pd.read_csv('../Data/test_features.csv')\n"
   ]
  },
  {
   "cell_type": "code",
   "execution_count": 9,
   "metadata": {
    "ExecuteTime": {
     "end_time": "2020-02-04T15:25:15.021365Z",
     "start_time": "2020-02-04T15:25:13.764899Z"
    }
   },
   "outputs": [],
   "source": [
    "#look for duplicate data, invalid data (e.g. salaries <=0), or corrupt data and remove it\n",
    "\n",
    "train_combined = train_features.merge(train_salaries, on = 'jobId', how = 'left')\n",
    "train_combined = train_combined[train_combined.salary > 0]\n"
   ]
  },
  {
   "cell_type": "code",
   "execution_count": 57,
   "metadata": {
    "ExecuteTime": {
     "end_time": "2020-02-04T16:26:46.920737Z",
     "start_time": "2020-02-04T16:26:46.619535Z"
    }
   },
   "outputs": [
    {
     "data": {
      "text/plain": [
       "Index(['jobType', 'degree', 'major', 'industry'], dtype='object')"
      ]
     },
     "execution_count": 57,
     "metadata": {},
     "output_type": "execute_result"
    }
   ],
   "source": [
    "numeric_features = train_combined.select_dtypes(include=['int64', 'float64']).drop(['salary'],axis = 1).columns\n",
    "categorical_features = train_combined.select_dtypes(include=['object']).columns\n",
    "\n",
    "categorical_features"
   ]
  },
  {
   "cell_type": "code",
   "execution_count": 93,
   "metadata": {
    "ExecuteTime": {
     "end_time": "2020-02-04T19:06:09.597901Z",
     "start_time": "2020-02-04T19:06:09.333706Z"
    },
    "scrolled": true
   },
   "outputs": [],
   "source": [
    "# train_combined.drop(labels = ['jobId','companyId'],inplace=True,axis=1)\n",
    "                      \n",
    "# train = train_combined.drop(['salary'],axis=1)\n",
    "train = train_combined.drop(categorical_features,axis=1)\n",
    "train = train.drop(['salary'],axis=1)\n",
    "target = train_combined['salary']\n"
   ]
  },
  {
   "cell_type": "code",
   "execution_count": 92,
   "metadata": {
    "ExecuteTime": {
     "end_time": "2020-02-04T19:05:25.508062Z",
     "start_time": "2020-02-04T19:05:25.470159Z"
    }
   },
   "outputs": [
    {
     "data": {
      "text/html": [
       "<div>\n",
       "<style scoped>\n",
       "    .dataframe tbody tr th:only-of-type {\n",
       "        vertical-align: middle;\n",
       "    }\n",
       "\n",
       "    .dataframe tbody tr th {\n",
       "        vertical-align: top;\n",
       "    }\n",
       "\n",
       "    .dataframe thead th {\n",
       "        text-align: right;\n",
       "    }\n",
       "</style>\n",
       "<table border=\"1\" class=\"dataframe\">\n",
       "  <thead>\n",
       "    <tr style=\"text-align: right;\">\n",
       "      <th></th>\n",
       "      <th>yearsExperience</th>\n",
       "      <th>milesFromMetropolis</th>\n",
       "      <th>salary</th>\n",
       "      <th>jobType_mean</th>\n",
       "      <th>jobType_max</th>\n",
       "      <th>jobType_min</th>\n",
       "      <th>jobType_median</th>\n",
       "      <th>jobType_std</th>\n",
       "      <th>degree_mean</th>\n",
       "      <th>degree_max</th>\n",
       "      <th>...</th>\n",
       "      <th>major_mean</th>\n",
       "      <th>major_max</th>\n",
       "      <th>major_min</th>\n",
       "      <th>major_median</th>\n",
       "      <th>major_std</th>\n",
       "      <th>industry_mean</th>\n",
       "      <th>industry_max</th>\n",
       "      <th>industry_min</th>\n",
       "      <th>industry_median</th>\n",
       "      <th>industry_std</th>\n",
       "    </tr>\n",
       "  </thead>\n",
       "  <tbody>\n",
       "    <tr>\n",
       "      <td>0</td>\n",
       "      <td>10</td>\n",
       "      <td>83</td>\n",
       "      <td>130</td>\n",
       "      <td>135.458547</td>\n",
       "      <td>301</td>\n",
       "      <td>51</td>\n",
       "      <td>132</td>\n",
       "      <td>33.069203</td>\n",
       "      <td>130.505647</td>\n",
       "      <td>301</td>\n",
       "      <td>...</td>\n",
       "      <td>133.322042</td>\n",
       "      <td>280</td>\n",
       "      <td>39</td>\n",
       "      <td>130</td>\n",
       "      <td>35.539246</td>\n",
       "      <td>115.735540</td>\n",
       "      <td>275</td>\n",
       "      <td>28</td>\n",
       "      <td>114</td>\n",
       "      <td>36.865179</td>\n",
       "    </tr>\n",
       "    <tr>\n",
       "      <td>1</td>\n",
       "      <td>3</td>\n",
       "      <td>73</td>\n",
       "      <td>101</td>\n",
       "      <td>145.311425</td>\n",
       "      <td>298</td>\n",
       "      <td>55</td>\n",
       "      <td>142</td>\n",
       "      <td>34.423846</td>\n",
       "      <td>101.921085</td>\n",
       "      <td>260</td>\n",
       "      <td>...</td>\n",
       "      <td>102.583864</td>\n",
       "      <td>270</td>\n",
       "      <td>17</td>\n",
       "      <td>100</td>\n",
       "      <td>36.136268</td>\n",
       "      <td>121.645362</td>\n",
       "      <td>290</td>\n",
       "      <td>31</td>\n",
       "      <td>119</td>\n",
       "      <td>38.165659</td>\n",
       "    </tr>\n",
       "    <tr>\n",
       "      <td>2</td>\n",
       "      <td>10</td>\n",
       "      <td>38</td>\n",
       "      <td>137</td>\n",
       "      <td>125.368630</td>\n",
       "      <td>272</td>\n",
       "      <td>44</td>\n",
       "      <td>122</td>\n",
       "      <td>31.956295</td>\n",
       "      <td>135.490979</td>\n",
       "      <td>301</td>\n",
       "      <td>...</td>\n",
       "      <td>130.372436</td>\n",
       "      <td>293</td>\n",
       "      <td>38</td>\n",
       "      <td>127</td>\n",
       "      <td>34.956981</td>\n",
       "      <td>115.735540</td>\n",
       "      <td>275</td>\n",
       "      <td>28</td>\n",
       "      <td>114</td>\n",
       "      <td>36.865179</td>\n",
       "    </tr>\n",
       "    <tr>\n",
       "      <td>3</td>\n",
       "      <td>8</td>\n",
       "      <td>17</td>\n",
       "      <td>142</td>\n",
       "      <td>115.368518</td>\n",
       "      <td>270</td>\n",
       "      <td>37</td>\n",
       "      <td>112</td>\n",
       "      <td>30.833865</td>\n",
       "      <td>135.490979</td>\n",
       "      <td>301</td>\n",
       "      <td>...</td>\n",
       "      <td>129.072085</td>\n",
       "      <td>282</td>\n",
       "      <td>40</td>\n",
       "      <td>126</td>\n",
       "      <td>34.832396</td>\n",
       "      <td>109.435222</td>\n",
       "      <td>264</td>\n",
       "      <td>25</td>\n",
       "      <td>108</td>\n",
       "      <td>36.091590</td>\n",
       "    </tr>\n",
       "    <tr>\n",
       "      <td>4</td>\n",
       "      <td>8</td>\n",
       "      <td>16</td>\n",
       "      <td>163</td>\n",
       "      <td>125.368630</td>\n",
       "      <td>272</td>\n",
       "      <td>44</td>\n",
       "      <td>122</td>\n",
       "      <td>31.956295</td>\n",
       "      <td>125.454663</td>\n",
       "      <td>294</td>\n",
       "      <td>...</td>\n",
       "      <td>130.372436</td>\n",
       "      <td>293</td>\n",
       "      <td>38</td>\n",
       "      <td>127</td>\n",
       "      <td>34.956981</td>\n",
       "      <td>130.747659</td>\n",
       "      <td>294</td>\n",
       "      <td>36</td>\n",
       "      <td>128</td>\n",
       "      <td>38.319820</td>\n",
       "    </tr>\n",
       "  </tbody>\n",
       "</table>\n",
       "<p>5 rows × 23 columns</p>\n",
       "</div>"
      ],
      "text/plain": [
       "   yearsExperience  milesFromMetropolis  salary  jobType_mean  jobType_max  \\\n",
       "0               10                   83     130    135.458547          301   \n",
       "1                3                   73     101    145.311425          298   \n",
       "2               10                   38     137    125.368630          272   \n",
       "3                8                   17     142    115.368518          270   \n",
       "4                8                   16     163    125.368630          272   \n",
       "\n",
       "   jobType_min  jobType_median  jobType_std  degree_mean  degree_max  ...  \\\n",
       "0           51             132    33.069203   130.505647         301  ...   \n",
       "1           55             142    34.423846   101.921085         260  ...   \n",
       "2           44             122    31.956295   135.490979         301  ...   \n",
       "3           37             112    30.833865   135.490979         301  ...   \n",
       "4           44             122    31.956295   125.454663         294  ...   \n",
       "\n",
       "   major_mean  major_max  major_min  major_median  major_std  industry_mean  \\\n",
       "0  133.322042        280         39           130  35.539246     115.735540   \n",
       "1  102.583864        270         17           100  36.136268     121.645362   \n",
       "2  130.372436        293         38           127  34.956981     115.735540   \n",
       "3  129.072085        282         40           126  34.832396     109.435222   \n",
       "4  130.372436        293         38           127  34.956981     130.747659   \n",
       "\n",
       "   industry_max  industry_min  industry_median  industry_std  \n",
       "0           275            28              114     36.865179  \n",
       "1           290            31              119     38.165659  \n",
       "2           275            28              114     36.865179  \n",
       "3           264            25              108     36.091590  \n",
       "4           294            36              128     38.319820  \n",
       "\n",
       "[5 rows x 23 columns]"
      ]
     },
     "execution_count": 92,
     "metadata": {},
     "output_type": "execute_result"
    }
   ],
   "source": [
    "train.head()"
   ]
  },
  {
   "cell_type": "code",
   "execution_count": 23,
   "metadata": {
    "ExecuteTime": {
     "end_time": "2020-02-04T15:45:49.374309Z",
     "start_time": "2020-02-04T15:45:47.381879Z"
    }
   },
   "outputs": [
    {
     "name": "stderr",
     "output_type": "stream",
     "text": [
      "C:\\Anaconda\\lib\\site-packages\\ipykernel_launcher.py:3: FutureWarning: using a dict on a Series for aggregation\n",
      "is deprecated and will be removed in a future version. Use                 named aggregation instead.\n",
      "\n",
      "    >>> grouper.agg(name_1=func_1, name_2=func_2)\n",
      "\n",
      "  This is separate from the ipykernel package so we can avoid doing imports until\n"
     ]
    }
   ],
   "source": [
    "#engineer potential features\n",
    "for cat in categorical_features:\n",
    "    cat_stats =train_combined['salary'].groupby(train_combined[cat]).agg({f'{cat}_mean':'mean',f'{cat}_max':'max',f'{cat}_min':'min',f'{cat}_median':'median',f'{cat}_std':'std'})\n",
    "    train_combined = train_combined.merge(cat_stats,how = 'left',left_on = cat, right_on=cat_stats.index)"
   ]
  },
  {
   "cell_type": "code",
   "execution_count": 60,
   "metadata": {
    "ExecuteTime": {
     "end_time": "2020-02-04T16:28:08.260419Z",
     "start_time": "2020-02-04T16:28:08.252437Z"
    }
   },
   "outputs": [],
   "source": [
    "# set up pipelines\n",
    "numeric_transformer = Pipeline(steps=[\n",
    "    ('scaler', StandardScaler())])\n",
    "\n",
    "# dummy_transformer = Pipeline(steps=[\n",
    "#     ('onehot', OneHotEncoder(drop  = 'first'))])\n",
    "\n",
    "# ordinal_transformer = Pipeline(steps = [\n",
    "#     'ordinal'])\n",
    "\n",
    "\n",
    "preprocessor = ColumnTransformer(\n",
    "    transformers=[\n",
    "        ('num', numeric_transformer, numeric_features),\n",
    "#         ('cat', dummy_transformer, categorical_features)\n",
    "    ])"
   ]
  },
  {
   "cell_type": "code",
   "execution_count": 81,
   "metadata": {
    "ExecuteTime": {
     "end_time": "2020-02-04T17:57:59.948687Z",
     "start_time": "2020-02-04T17:57:59.943698Z"
    }
   },
   "outputs": [],
   "source": [
    "lm = Pipeline(steps=[('preprocessor', preprocessor),\n",
    "                      ('regressor', LinearRegression(n_jobs=-1))])\n"
   ]
  },
  {
   "cell_type": "code",
   "execution_count": 94,
   "metadata": {
    "ExecuteTime": {
     "end_time": "2020-02-04T19:06:16.450237Z",
     "start_time": "2020-02-04T19:06:16.012630Z"
    }
   },
   "outputs": [],
   "source": [
    "train_X, test_X, train_y, test_y = train_test_split(train,target, test_size = .25)"
   ]
  },
  {
   "cell_type": "code",
   "execution_count": 95,
   "metadata": {
    "ExecuteTime": {
     "end_time": "2020-02-04T19:06:23.144051Z",
     "start_time": "2020-02-04T19:06:21.444443Z"
    }
   },
   "outputs": [],
   "source": [
    "lm.fit(train_X,train_y)\n",
    "y_pred = lm.predict(test_X)"
   ]
  },
  {
   "cell_type": "code",
   "execution_count": 96,
   "metadata": {
    "ExecuteTime": {
     "end_time": "2020-02-04T19:06:25.694252Z",
     "start_time": "2020-02-04T19:06:25.684441Z"
    }
   },
   "outputs": [
    {
     "data": {
      "text/plain": [
       "385.59400641710795"
      ]
     },
     "execution_count": 96,
     "metadata": {},
     "output_type": "execute_result"
    }
   ],
   "source": [
    "mean_squared_error(test_y,y_pred)"
   ]
  },
  {
   "cell_type": "code",
   "execution_count": 66,
   "metadata": {
    "ExecuteTime": {
     "end_time": "2020-02-04T16:52:35.981936Z",
     "start_time": "2020-02-04T16:52:35.969870Z"
    }
   },
   "outputs": [],
   "source": [
    "param_grid = {'regressor__n_estimators': [x for x in range(300,600,50)],\n",
    "          'regressor__num_leaves':[x for x in range(5,50,10)],\n",
    "#           'regressor__max_depth':[x for x in range(20,80,10)],\n",
    "          'regressor__learning_rate':[x for x in np.arange(.2,.35,.03)],\n",
    "          'regressor__max_bin': [x for x in range(100,400,10)],\n",
    "          'regressor__reg_alpha': [.1, .2, .3, .4, .5],\n",
    "          'regressor__reg_lambda': [.1, .2, .3, .4, .5, .6, .7],\n",
    "          'regressor__boosting_type': ['dart'],\n",
    "          'regressor__subsample_for_bin':[x for x in range(200000,350000,10000)],\n",
    "               'regressor__min_split_gain' : [x for x in np.arange(.01,.5,.05)],\n",
    "              'regressor__min_child_weight'  : [x for x in np.arange(.05,.5,.05)],\n",
    "              'regressor__min_child_samples' : [x for x in range(5,30,5)]\n",
    "#               'regressor__colsample_bytree'  : [x for x in np.arange(1.0,2.5,.5)]\n",
    "             }"
   ]
  },
  {
   "cell_type": "code",
   "execution_count": 85,
   "metadata": {
    "ExecuteTime": {
     "end_time": "2020-02-04T18:28:46.224670Z",
     "start_time": "2020-02-04T18:28:46.219640Z"
    }
   },
   "outputs": [],
   "source": [
    "lgb_reg = Pipeline(steps=[#('preprocessor', preprocessor),\n",
    "                      ('regressor', lgb.LGBMRegressor())])"
   ]
  },
  {
   "cell_type": "code",
   "execution_count": 86,
   "metadata": {
    "ExecuteTime": {
     "end_time": "2020-02-04T18:28:47.904192Z",
     "start_time": "2020-02-04T18:28:47.900159Z"
    }
   },
   "outputs": [],
   "source": [
    "lgb_random = RandomizedSearchCV(estimator = lgb_reg, \n",
    "                               param_distributions = param_grid, \n",
    "                               n_iter = 3, \n",
    "                               cv = 5, \n",
    "                               verbose=0, \n",
    "                               n_jobs = 3,\n",
    "                               scoring = 'neg_mean_squared_error')"
   ]
  },
  {
   "cell_type": "code",
   "execution_count": 98,
   "metadata": {
    "ExecuteTime": {
     "end_time": "2020-02-04T20:10:22.295742Z",
     "start_time": "2020-02-04T19:06:51.245019Z"
    }
   },
   "outputs": [
    {
     "name": "stdout",
     "output_type": "stream",
     "text": [
      "-355.49015651214535\n",
      "{'regressor__subsample_for_bin': 300000, 'regressor__reg_lambda': 0.3, 'regressor__reg_alpha': 0.1, 'regressor__num_leaves': 35, 'regressor__n_estimators': 400, 'regressor__min_split_gain': 0.36000000000000004, 'regressor__min_child_weight': 0.3, 'regressor__min_child_samples': 20, 'regressor__max_bin': 220, 'regressor__learning_rate': 0.2, 'regressor__boosting_type': 'dart'}\n"
     ]
    }
   ],
   "source": [
    "lgb_random.fit(train_X,train_y)\n",
    "print(lgb_random.best_score_)\n",
    "print(lgb_random.best_params_)"
   ]
  },
  {
   "cell_type": "code",
   "execution_count": 99,
   "metadata": {
    "ExecuteTime": {
     "end_time": "2020-02-04T20:10:26.707778Z",
     "start_time": "2020-02-04T20:10:22.300731Z"
    }
   },
   "outputs": [
    {
     "name": "stdout",
     "output_type": "stream",
     "text": [
      "356.51022132131624\n"
     ]
    }
   ],
   "source": [
    "lgb_best = lgb_random.best_estimator_\n",
    "ypred = lgb_best.predict(test_X)\n",
    "print(mean_squared_error(test_y,ypred))"
   ]
  },
  {
   "cell_type": "code",
   "execution_count": 100,
   "metadata": {
    "ExecuteTime": {
     "end_time": "2020-02-04T20:18:08.935648Z",
     "start_time": "2020-02-04T20:18:08.760131Z"
    }
   },
   "outputs": [
    {
     "data": {
      "text/plain": [
       "['lightgbm.pkl']"
      ]
     },
     "execution_count": 100,
     "metadata": {},
     "output_type": "execute_result"
    }
   ],
   "source": [
    "#save model for later import\n",
    "import joblib\n",
    "joblib.dump(lgb_random.best_estimator_, 'lightgbm.pkl')\n",
    "\n",
    "\n"
   ]
  },
  {
   "cell_type": "code",
   "execution_count": 82,
   "metadata": {
    "ExecuteTime": {
     "end_time": "2020-02-04T18:06:38.468099Z",
     "start_time": "2020-02-04T18:06:38.439218Z"
    }
   },
   "outputs": [],
   "source": [
    "#read in model to avoid retraining every time\n",
    "\n",
    "import joblib\n",
    "lgbm = joblib.load('lightgbm.pkl')"
   ]
  },
  {
   "cell_type": "code",
   "execution_count": 91,
   "metadata": {
    "ExecuteTime": {
     "end_time": "2020-02-04T19:04:08.121625Z",
     "start_time": "2020-02-04T19:04:04.385914Z"
    }
   },
   "outputs": [
    {
     "name": "stdout",
     "output_type": "stream",
     "text": [
      "355.15625277015005\n"
     ]
    }
   ],
   "source": [
    "# lgb_best = lgb_random.best_estimator_\n",
    "# lgb_best.predict(X_test)\n",
    "ypred = lgbm.predict(test_X)\n",
    "print(mean_squared_error(test_y,ypred))"
   ]
  }
 ],
 "metadata": {
  "kernelspec": {
   "display_name": "Python 3",
   "language": "python",
   "name": "python3"
  },
  "language_info": {
   "codemirror_mode": {
    "name": "ipython",
    "version": 3
   },
   "file_extension": ".py",
   "mimetype": "text/x-python",
   "name": "python",
   "nbconvert_exporter": "python",
   "pygments_lexer": "ipython3",
   "version": "3.7.4"
  }
 },
 "nbformat": 4,
 "nbformat_minor": 4
}
