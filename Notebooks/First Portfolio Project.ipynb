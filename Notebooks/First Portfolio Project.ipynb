{
 "cells": [
  {
   "cell_type": "markdown",
   "metadata": {},
   "source": [
    "# Salary Predictions Based on Job Descriptions"
   ]
  },
  {
   "cell_type": "markdown",
   "metadata": {},
   "source": [
    "# Part 1 - DEFINE"
   ]
  },
  {
   "cell_type": "markdown",
   "metadata": {},
   "source": [
    "### ---- 1 Define the problem ----"
   ]
  },
  {
   "cell_type": "code",
   "execution_count": null,
   "metadata": {},
   "outputs": [],
   "source": [
    "goals lets deep dive more on EDA visualizations plot two variables against one another\n",
    "1. create some subplots of variables"
   ]
  },
  {
   "cell_type": "markdown",
   "metadata": {},
   "source": [
    "Be able to predict the salaries of various job postings"
   ]
  },
  {
   "cell_type": "code",
   "execution_count": 1,
   "metadata": {},
   "outputs": [],
   "source": [
    "#import your libraries\n",
    "import pandas as pd\n",
    "import numpy as np\n",
    "import matplotlib.pyplot as plt\n",
    "import seaborn as sns\n",
    "\n",
    "# import sklearn as sk\n",
    "#etc\n",
    "\n",
    "#your info here\n",
    "__author__ = \"Jared Teerlink\"\n",
    "__email__ = \"jteerlink@gmail.com\""
   ]
  },
  {
   "cell_type": "markdown",
   "metadata": {},
   "source": [
    "## Part 2 - DISCOVER"
   ]
  },
  {
   "cell_type": "markdown",
   "metadata": {},
   "source": [
    "### ---- 2 Load the data ----"
   ]
  },
  {
   "cell_type": "code",
   "execution_count": 2,
   "metadata": {},
   "outputs": [],
   "source": [
    "#load the data into a Pandas dataframe\n",
    "train_features = pd.read_csv('../Data/train_features.csv')\n",
    "train_salaries = pd.read_csv('../Data/train_salaries.csv')\n",
    "test_features = pd.read_csv('../Data/test_features.csv')\n"
   ]
  },
  {
   "cell_type": "markdown",
   "metadata": {},
   "source": [
    "### ---- 3 Clean the data ----"
   ]
  },
  {
   "cell_type": "code",
   "execution_count": 3,
   "metadata": {},
   "outputs": [
    {
     "data": {
      "text/html": [
       "<div>\n",
       "<style scoped>\n",
       "    .dataframe tbody tr th:only-of-type {\n",
       "        vertical-align: middle;\n",
       "    }\n",
       "\n",
       "    .dataframe tbody tr th {\n",
       "        vertical-align: top;\n",
       "    }\n",
       "\n",
       "    .dataframe thead th {\n",
       "        text-align: right;\n",
       "    }\n",
       "</style>\n",
       "<table border=\"1\" class=\"dataframe\">\n",
       "  <thead>\n",
       "    <tr style=\"text-align: right;\">\n",
       "      <th></th>\n",
       "      <th>jobId</th>\n",
       "      <th>companyId</th>\n",
       "      <th>jobType</th>\n",
       "      <th>degree</th>\n",
       "      <th>major</th>\n",
       "      <th>industry</th>\n",
       "      <th>yearsExperience</th>\n",
       "      <th>milesFromMetropolis</th>\n",
       "      <th>salary</th>\n",
       "    </tr>\n",
       "  </thead>\n",
       "  <tbody>\n",
       "    <tr>\n",
       "      <th>0</th>\n",
       "      <td>JOB1362684407687</td>\n",
       "      <td>COMP37</td>\n",
       "      <td>CFO</td>\n",
       "      <td>MASTERS</td>\n",
       "      <td>MATH</td>\n",
       "      <td>HEALTH</td>\n",
       "      <td>10</td>\n",
       "      <td>83</td>\n",
       "      <td>130</td>\n",
       "    </tr>\n",
       "    <tr>\n",
       "      <th>1</th>\n",
       "      <td>JOB1362684407688</td>\n",
       "      <td>COMP19</td>\n",
       "      <td>CEO</td>\n",
       "      <td>HIGH_SCHOOL</td>\n",
       "      <td>NONE</td>\n",
       "      <td>WEB</td>\n",
       "      <td>3</td>\n",
       "      <td>73</td>\n",
       "      <td>101</td>\n",
       "    </tr>\n",
       "    <tr>\n",
       "      <th>2</th>\n",
       "      <td>JOB1362684407689</td>\n",
       "      <td>COMP52</td>\n",
       "      <td>VICE_PRESIDENT</td>\n",
       "      <td>DOCTORAL</td>\n",
       "      <td>PHYSICS</td>\n",
       "      <td>HEALTH</td>\n",
       "      <td>10</td>\n",
       "      <td>38</td>\n",
       "      <td>137</td>\n",
       "    </tr>\n",
       "    <tr>\n",
       "      <th>3</th>\n",
       "      <td>JOB1362684407690</td>\n",
       "      <td>COMP38</td>\n",
       "      <td>MANAGER</td>\n",
       "      <td>DOCTORAL</td>\n",
       "      <td>CHEMISTRY</td>\n",
       "      <td>AUTO</td>\n",
       "      <td>8</td>\n",
       "      <td>17</td>\n",
       "      <td>142</td>\n",
       "    </tr>\n",
       "    <tr>\n",
       "      <th>4</th>\n",
       "      <td>JOB1362684407691</td>\n",
       "      <td>COMP7</td>\n",
       "      <td>VICE_PRESIDENT</td>\n",
       "      <td>BACHELORS</td>\n",
       "      <td>PHYSICS</td>\n",
       "      <td>FINANCE</td>\n",
       "      <td>8</td>\n",
       "      <td>16</td>\n",
       "      <td>163</td>\n",
       "    </tr>\n",
       "  </tbody>\n",
       "</table>\n",
       "</div>"
      ],
      "text/plain": [
       "              jobId companyId         jobType       degree      major  \\\n",
       "0  JOB1362684407687    COMP37             CFO      MASTERS       MATH   \n",
       "1  JOB1362684407688    COMP19             CEO  HIGH_SCHOOL       NONE   \n",
       "2  JOB1362684407689    COMP52  VICE_PRESIDENT     DOCTORAL    PHYSICS   \n",
       "3  JOB1362684407690    COMP38         MANAGER     DOCTORAL  CHEMISTRY   \n",
       "4  JOB1362684407691     COMP7  VICE_PRESIDENT    BACHELORS    PHYSICS   \n",
       "\n",
       "  industry  yearsExperience  milesFromMetropolis  salary  \n",
       "0   HEALTH               10                   83     130  \n",
       "1      WEB                3                   73     101  \n",
       "2   HEALTH               10                   38     137  \n",
       "3     AUTO                8                   17     142  \n",
       "4  FINANCE                8                   16     163  "
      ]
     },
     "execution_count": 3,
     "metadata": {},
     "output_type": "execute_result"
    }
   ],
   "source": [
    "#look for duplicate data, invalid data (e.g. salaries <=0), or corrupt data and remove it\n",
    "\n",
    "\n",
    "\n",
    "train_combined = train_features.merge(train_salaries, on = 'jobId', how = 'left')\n",
    "train_combined = train_combined[train_combined.salary > 0]\n",
    "train_combined.head()"
   ]
  },
  {
   "cell_type": "code",
   "execution_count": 4,
   "metadata": {},
   "outputs": [],
   "source": [
    "train_combined.drop(labels = ['jobId', 'companyId'],inplace=True,axis=1)\n",
    "                      \n",
    "# train_combined = train_combined.drop(,inplace=True)\n",
    "\n",
    "\n"
   ]
  },
  {
   "cell_type": "code",
   "execution_count": null,
   "metadata": {},
   "outputs": [],
   "source": [
    "import pandas_profiling\n",
    "pandas_profiling.ProfileReport(train_combined)"
   ]
  },
  {
   "cell_type": "code",
   "execution_count": 5,
   "metadata": {},
   "outputs": [
    {
     "name": "stdout",
     "output_type": "stream",
     "text": [
      "<class 'pandas.core.frame.DataFrame'>\n",
      "Int64Index: 999995 entries, 0 to 999999\n",
      "Data columns (total 7 columns):\n",
      "jobType                999995 non-null object\n",
      "degree                 999995 non-null object\n",
      "major                  999995 non-null object\n",
      "industry               999995 non-null object\n",
      "yearsExperience        999995 non-null int64\n",
      "milesFromMetropolis    999995 non-null int64\n",
      "salary                 999995 non-null int64\n",
      "dtypes: int64(3), object(4)\n",
      "memory usage: 61.0+ MB\n"
     ]
    }
   ],
   "source": [
    "train_combined.info()"
   ]
  },
  {
   "cell_type": "code",
   "execution_count": 7,
   "metadata": {},
   "outputs": [
    {
     "data": {
      "text/plain": [
       "<matplotlib.collections.PathCollection at 0x6481eb8>"
      ]
     },
     "execution_count": 7,
     "metadata": {},
     "output_type": "execute_result"
    },
    {
     "data": {
      "image/png": "[encoded data removed]",
      "text/plain": [
       "<Figure size 432x288 with 1 Axes>"
      ]
     },
     "metadata": {
      "needs_background": "light"
     },
     "output_type": "display_data"
    }
   ],
   "source": [
    "plt.scatter(train_combined.milesFromMetropolis,train_combined.salary)"
   ]
  },
  {
   "cell_type": "code",
   "execution_count": 6,
   "metadata": {},
   "outputs": [
    {
     "data": {
      "text/plain": [
       "jobType         degree     \n",
       "CEO             BACHELORS      148.421009\n",
       "                DOCTORAL       158.232849\n",
       "                HIGH_SCHOOL    135.629182\n",
       "                MASTERS        153.254510\n",
       "                NONE           130.796690\n",
       "CFO             BACHELORS      138.508706\n",
       "                DOCTORAL       148.308742\n",
       "                HIGH_SCHOOL    125.964395\n",
       "                MASTERS        143.316243\n",
       "                NONE           121.135389\n",
       "CTO             BACHELORS      138.363172\n",
       "                DOCTORAL       148.269262\n",
       "                HIGH_SCHOOL    126.082232\n",
       "                MASTERS        143.582019\n",
       "                NONE           120.939193\n",
       "JANITOR         HIGH_SCHOOL     70.976821\n",
       "                NONE            70.649575\n",
       "JUNIOR          BACHELORS       98.130267\n",
       "                DOCTORAL       108.356035\n",
       "                HIGH_SCHOOL     85.791986\n",
       "                MASTERS        103.463304\n",
       "                NONE            80.884064\n",
       "MANAGER         BACHELORS      118.173795\n",
       "                DOCTORAL       128.211800\n",
       "                HIGH_SCHOOL    106.068086\n",
       "                MASTERS        123.389176\n",
       "                NONE           100.981070\n",
       "SENIOR          BACHELORS      108.325539\n",
       "                DOCTORAL       118.867134\n",
       "                HIGH_SCHOOL     95.908637\n",
       "                MASTERS        113.408824\n",
       "                NONE            90.628738\n",
       "VICE_PRESIDENT  BACHELORS      128.196227\n",
       "                DOCTORAL       138.491400\n",
       "                HIGH_SCHOOL    115.758343\n",
       "                MASTERS        133.077062\n",
       "                NONE           111.207654\n",
       "Name: salary, dtype: float64"
      ]
     },
     "execution_count": 6,
     "metadata": {},
     "output_type": "execute_result"
    }
   ],
   "source": [
    "train_combined.groupby(['jobType','degree'])['salary'].mean()\n",
    "\n"
   ]
  },
  {
   "cell_type": "code",
   "execution_count": 5,
   "metadata": {},
   "outputs": [],
   "source": [
    "#Dummy Variables\n",
    "# major = pd.get_dummies(train_combined['major'], prefix_sep='_', drop_first=True)\n",
    "\n",
    "industry = pd.get_dummies(train_combined['industry'], prefix_sep='_', drop_first=True)\n",
    "\n",
    "train_combined = pd.concat([train_combined, industry], axis=1)"
   ]
  },
  {
   "cell_type": "code",
   "execution_count": 6,
   "metadata": {},
   "outputs": [],
   "source": [
    "from sklearn.preprocessing import LabelEncoder\n",
    "\n",
    "label_enc = LabelEncoder()\n",
    "\n",
    "# major_coded = label_enc.fit_transform(train_combined['major'])\n",
    "\n",
    "\n",
    "industry_coded = label_enc.fit_transform(train_combined['industry'])\n",
    "\n",
    "# train_combined = pd.concat([train_combined, major_coded, industry_coded], axis=1)\n",
    "\n",
    "# train_combined['major_enc'] = major_coded\n",
    "train_combined['industry_enc'] = industry_coded"
   ]
  },
  {
   "cell_type": "code",
   "execution_count": 6,
   "metadata": {},
   "outputs": [
    {
     "data": {
      "text/html": [
       "<div>\n",
       "<style scoped>\n",
       "    .dataframe tbody tr th:only-of-type {\n",
       "        vertical-align: middle;\n",
       "    }\n",
       "\n",
       "    .dataframe tbody tr th {\n",
       "        vertical-align: top;\n",
       "    }\n",
       "\n",
       "    .dataframe thead th {\n",
       "        text-align: right;\n",
       "    }\n",
       "</style>\n",
       "<table border=\"1\" class=\"dataframe\">\n",
       "  <thead>\n",
       "    <tr style=\"text-align: right;\">\n",
       "      <th></th>\n",
       "      <th>jobType</th>\n",
       "      <th>degree</th>\n",
       "      <th>industry</th>\n",
       "      <th>yearsExperience</th>\n",
       "      <th>milesFromMetropolis</th>\n",
       "      <th>salary</th>\n",
       "      <th>industry_enc</th>\n",
       "    </tr>\n",
       "  </thead>\n",
       "  <tbody>\n",
       "    <tr>\n",
       "      <th>0</th>\n",
       "      <td>CFO</td>\n",
       "      <td>MASTERS</td>\n",
       "      <td>HEALTH</td>\n",
       "      <td>10</td>\n",
       "      <td>83</td>\n",
       "      <td>130</td>\n",
       "      <td>3</td>\n",
       "    </tr>\n",
       "    <tr>\n",
       "      <th>1</th>\n",
       "      <td>CEO</td>\n",
       "      <td>HIGH_SCHOOL</td>\n",
       "      <td>WEB</td>\n",
       "      <td>3</td>\n",
       "      <td>73</td>\n",
       "      <td>101</td>\n",
       "      <td>6</td>\n",
       "    </tr>\n",
       "    <tr>\n",
       "      <th>2</th>\n",
       "      <td>VICE_PRESIDENT</td>\n",
       "      <td>DOCTORAL</td>\n",
       "      <td>HEALTH</td>\n",
       "      <td>10</td>\n",
       "      <td>38</td>\n",
       "      <td>137</td>\n",
       "      <td>3</td>\n",
       "    </tr>\n",
       "    <tr>\n",
       "      <th>3</th>\n",
       "      <td>MANAGER</td>\n",
       "      <td>DOCTORAL</td>\n",
       "      <td>AUTO</td>\n",
       "      <td>8</td>\n",
       "      <td>17</td>\n",
       "      <td>142</td>\n",
       "      <td>0</td>\n",
       "    </tr>\n",
       "    <tr>\n",
       "      <th>4</th>\n",
       "      <td>VICE_PRESIDENT</td>\n",
       "      <td>BACHELORS</td>\n",
       "      <td>FINANCE</td>\n",
       "      <td>8</td>\n",
       "      <td>16</td>\n",
       "      <td>163</td>\n",
       "      <td>2</td>\n",
       "    </tr>\n",
       "    <tr>\n",
       "      <th>5</th>\n",
       "      <td>MANAGER</td>\n",
       "      <td>DOCTORAL</td>\n",
       "      <td>FINANCE</td>\n",
       "      <td>2</td>\n",
       "      <td>31</td>\n",
       "      <td>113</td>\n",
       "      <td>2</td>\n",
       "    </tr>\n",
       "    <tr>\n",
       "      <th>6</th>\n",
       "      <td>CFO</td>\n",
       "      <td>NONE</td>\n",
       "      <td>HEALTH</td>\n",
       "      <td>23</td>\n",
       "      <td>24</td>\n",
       "      <td>178</td>\n",
       "      <td>3</td>\n",
       "    </tr>\n",
       "    <tr>\n",
       "      <th>7</th>\n",
       "      <td>JUNIOR</td>\n",
       "      <td>BACHELORS</td>\n",
       "      <td>EDUCATION</td>\n",
       "      <td>9</td>\n",
       "      <td>70</td>\n",
       "      <td>73</td>\n",
       "      <td>1</td>\n",
       "    </tr>\n",
       "    <tr>\n",
       "      <th>8</th>\n",
       "      <td>JANITOR</td>\n",
       "      <td>HIGH_SCHOOL</td>\n",
       "      <td>EDUCATION</td>\n",
       "      <td>1</td>\n",
       "      <td>54</td>\n",
       "      <td>31</td>\n",
       "      <td>1</td>\n",
       "    </tr>\n",
       "    <tr>\n",
       "      <th>9</th>\n",
       "      <td>VICE_PRESIDENT</td>\n",
       "      <td>BACHELORS</td>\n",
       "      <td>AUTO</td>\n",
       "      <td>17</td>\n",
       "      <td>68</td>\n",
       "      <td>104</td>\n",
       "      <td>0</td>\n",
       "    </tr>\n",
       "    <tr>\n",
       "      <th>10</th>\n",
       "      <td>JANITOR</td>\n",
       "      <td>HIGH_SCHOOL</td>\n",
       "      <td>HEALTH</td>\n",
       "      <td>24</td>\n",
       "      <td>30</td>\n",
       "      <td>102</td>\n",
       "      <td>3</td>\n",
       "    </tr>\n",
       "    <tr>\n",
       "      <th>11</th>\n",
       "      <td>CEO</td>\n",
       "      <td>MASTERS</td>\n",
       "      <td>EDUCATION</td>\n",
       "      <td>7</td>\n",
       "      <td>79</td>\n",
       "      <td>144</td>\n",
       "      <td>1</td>\n",
       "    </tr>\n",
       "    <tr>\n",
       "      <th>12</th>\n",
       "      <td>JUNIOR</td>\n",
       "      <td>NONE</td>\n",
       "      <td>OIL</td>\n",
       "      <td>8</td>\n",
       "      <td>29</td>\n",
       "      <td>79</td>\n",
       "      <td>4</td>\n",
       "    </tr>\n",
       "    <tr>\n",
       "      <th>13</th>\n",
       "      <td>JUNIOR</td>\n",
       "      <td>MASTERS</td>\n",
       "      <td>FINANCE</td>\n",
       "      <td>21</td>\n",
       "      <td>26</td>\n",
       "      <td>193</td>\n",
       "      <td>2</td>\n",
       "    </tr>\n",
       "    <tr>\n",
       "      <th>14</th>\n",
       "      <td>JANITOR</td>\n",
       "      <td>NONE</td>\n",
       "      <td>AUTO</td>\n",
       "      <td>21</td>\n",
       "      <td>81</td>\n",
       "      <td>47</td>\n",
       "      <td>0</td>\n",
       "    </tr>\n",
       "    <tr>\n",
       "      <th>15</th>\n",
       "      <td>CTO</td>\n",
       "      <td>MASTERS</td>\n",
       "      <td>SERVICE</td>\n",
       "      <td>13</td>\n",
       "      <td>8</td>\n",
       "      <td>172</td>\n",
       "      <td>5</td>\n",
       "    </tr>\n",
       "    <tr>\n",
       "      <th>16</th>\n",
       "      <td>JUNIOR</td>\n",
       "      <td>MASTERS</td>\n",
       "      <td>SERVICE</td>\n",
       "      <td>1</td>\n",
       "      <td>91</td>\n",
       "      <td>47</td>\n",
       "      <td>5</td>\n",
       "    </tr>\n",
       "    <tr>\n",
       "      <th>17</th>\n",
       "      <td>VICE_PRESIDENT</td>\n",
       "      <td>MASTERS</td>\n",
       "      <td>SERVICE</td>\n",
       "      <td>23</td>\n",
       "      <td>43</td>\n",
       "      <td>126</td>\n",
       "      <td>5</td>\n",
       "    </tr>\n",
       "    <tr>\n",
       "      <th>18</th>\n",
       "      <td>CEO</td>\n",
       "      <td>MASTERS</td>\n",
       "      <td>SERVICE</td>\n",
       "      <td>23</td>\n",
       "      <td>66</td>\n",
       "      <td>122</td>\n",
       "      <td>5</td>\n",
       "    </tr>\n",
       "    <tr>\n",
       "      <th>19</th>\n",
       "      <td>CEO</td>\n",
       "      <td>MASTERS</td>\n",
       "      <td>EDUCATION</td>\n",
       "      <td>9</td>\n",
       "      <td>99</td>\n",
       "      <td>95</td>\n",
       "      <td>1</td>\n",
       "    </tr>\n",
       "    <tr>\n",
       "      <th>20</th>\n",
       "      <td>JANITOR</td>\n",
       "      <td>NONE</td>\n",
       "      <td>SERVICE</td>\n",
       "      <td>11</td>\n",
       "      <td>96</td>\n",
       "      <td>32</td>\n",
       "      <td>5</td>\n",
       "    </tr>\n",
       "    <tr>\n",
       "      <th>21</th>\n",
       "      <td>JUNIOR</td>\n",
       "      <td>NONE</td>\n",
       "      <td>AUTO</td>\n",
       "      <td>14</td>\n",
       "      <td>62</td>\n",
       "      <td>68</td>\n",
       "      <td>0</td>\n",
       "    </tr>\n",
       "    <tr>\n",
       "      <th>22</th>\n",
       "      <td>JUNIOR</td>\n",
       "      <td>BACHELORS</td>\n",
       "      <td>HEALTH</td>\n",
       "      <td>18</td>\n",
       "      <td>69</td>\n",
       "      <td>105</td>\n",
       "      <td>3</td>\n",
       "    </tr>\n",
       "    <tr>\n",
       "      <th>23</th>\n",
       "      <td>JUNIOR</td>\n",
       "      <td>NONE</td>\n",
       "      <td>HEALTH</td>\n",
       "      <td>20</td>\n",
       "      <td>63</td>\n",
       "      <td>76</td>\n",
       "      <td>3</td>\n",
       "    </tr>\n",
       "    <tr>\n",
       "      <th>24</th>\n",
       "      <td>CEO</td>\n",
       "      <td>BACHELORS</td>\n",
       "      <td>WEB</td>\n",
       "      <td>12</td>\n",
       "      <td>8</td>\n",
       "      <td>202</td>\n",
       "      <td>6</td>\n",
       "    </tr>\n",
       "    <tr>\n",
       "      <th>25</th>\n",
       "      <td>CFO</td>\n",
       "      <td>BACHELORS</td>\n",
       "      <td>AUTO</td>\n",
       "      <td>9</td>\n",
       "      <td>70</td>\n",
       "      <td>131</td>\n",
       "      <td>0</td>\n",
       "    </tr>\n",
       "    <tr>\n",
       "      <th>26</th>\n",
       "      <td>CEO</td>\n",
       "      <td>BACHELORS</td>\n",
       "      <td>AUTO</td>\n",
       "      <td>24</td>\n",
       "      <td>40</td>\n",
       "      <td>158</td>\n",
       "      <td>0</td>\n",
       "    </tr>\n",
       "    <tr>\n",
       "      <th>27</th>\n",
       "      <td>CTO</td>\n",
       "      <td>MASTERS</td>\n",
       "      <td>AUTO</td>\n",
       "      <td>9</td>\n",
       "      <td>6</td>\n",
       "      <td>130</td>\n",
       "      <td>0</td>\n",
       "    </tr>\n",
       "    <tr>\n",
       "      <th>28</th>\n",
       "      <td>JANITOR</td>\n",
       "      <td>HIGH_SCHOOL</td>\n",
       "      <td>FINANCE</td>\n",
       "      <td>20</td>\n",
       "      <td>23</td>\n",
       "      <td>101</td>\n",
       "      <td>2</td>\n",
       "    </tr>\n",
       "    <tr>\n",
       "      <th>29</th>\n",
       "      <td>SENIOR</td>\n",
       "      <td>DOCTORAL</td>\n",
       "      <td>EDUCATION</td>\n",
       "      <td>1</td>\n",
       "      <td>9</td>\n",
       "      <td>82</td>\n",
       "      <td>1</td>\n",
       "    </tr>\n",
       "    <tr>\n",
       "      <th>...</th>\n",
       "      <td>...</td>\n",
       "      <td>...</td>\n",
       "      <td>...</td>\n",
       "      <td>...</td>\n",
       "      <td>...</td>\n",
       "      <td>...</td>\n",
       "      <td>...</td>\n",
       "    </tr>\n",
       "    <tr>\n",
       "      <th>999970</th>\n",
       "      <td>SENIOR</td>\n",
       "      <td>DOCTORAL</td>\n",
       "      <td>FINANCE</td>\n",
       "      <td>23</td>\n",
       "      <td>6</td>\n",
       "      <td>216</td>\n",
       "      <td>2</td>\n",
       "    </tr>\n",
       "    <tr>\n",
       "      <th>999971</th>\n",
       "      <td>MANAGER</td>\n",
       "      <td>NONE</td>\n",
       "      <td>SERVICE</td>\n",
       "      <td>20</td>\n",
       "      <td>19</td>\n",
       "      <td>115</td>\n",
       "      <td>5</td>\n",
       "    </tr>\n",
       "    <tr>\n",
       "      <th>999972</th>\n",
       "      <td>JUNIOR</td>\n",
       "      <td>NONE</td>\n",
       "      <td>EDUCATION</td>\n",
       "      <td>23</td>\n",
       "      <td>84</td>\n",
       "      <td>56</td>\n",
       "      <td>1</td>\n",
       "    </tr>\n",
       "    <tr>\n",
       "      <th>999973</th>\n",
       "      <td>MANAGER</td>\n",
       "      <td>DOCTORAL</td>\n",
       "      <td>SERVICE</td>\n",
       "      <td>3</td>\n",
       "      <td>51</td>\n",
       "      <td>117</td>\n",
       "      <td>5</td>\n",
       "    </tr>\n",
       "    <tr>\n",
       "      <th>999974</th>\n",
       "      <td>MANAGER</td>\n",
       "      <td>DOCTORAL</td>\n",
       "      <td>WEB</td>\n",
       "      <td>6</td>\n",
       "      <td>83</td>\n",
       "      <td>131</td>\n",
       "      <td>6</td>\n",
       "    </tr>\n",
       "    <tr>\n",
       "      <th>999975</th>\n",
       "      <td>JUNIOR</td>\n",
       "      <td>HIGH_SCHOOL</td>\n",
       "      <td>OIL</td>\n",
       "      <td>9</td>\n",
       "      <td>71</td>\n",
       "      <td>97</td>\n",
       "      <td>4</td>\n",
       "    </tr>\n",
       "    <tr>\n",
       "      <th>999976</th>\n",
       "      <td>VICE_PRESIDENT</td>\n",
       "      <td>MASTERS</td>\n",
       "      <td>SERVICE</td>\n",
       "      <td>18</td>\n",
       "      <td>72</td>\n",
       "      <td>112</td>\n",
       "      <td>5</td>\n",
       "    </tr>\n",
       "    <tr>\n",
       "      <th>999977</th>\n",
       "      <td>CFO</td>\n",
       "      <td>NONE</td>\n",
       "      <td>HEALTH</td>\n",
       "      <td>12</td>\n",
       "      <td>46</td>\n",
       "      <td>142</td>\n",
       "      <td>3</td>\n",
       "    </tr>\n",
       "    <tr>\n",
       "      <th>999978</th>\n",
       "      <td>VICE_PRESIDENT</td>\n",
       "      <td>NONE</td>\n",
       "      <td>SERVICE</td>\n",
       "      <td>18</td>\n",
       "      <td>94</td>\n",
       "      <td>93</td>\n",
       "      <td>5</td>\n",
       "    </tr>\n",
       "    <tr>\n",
       "      <th>999979</th>\n",
       "      <td>CFO</td>\n",
       "      <td>BACHELORS</td>\n",
       "      <td>WEB</td>\n",
       "      <td>24</td>\n",
       "      <td>82</td>\n",
       "      <td>181</td>\n",
       "      <td>6</td>\n",
       "    </tr>\n",
       "    <tr>\n",
       "      <th>999980</th>\n",
       "      <td>CTO</td>\n",
       "      <td>MASTERS</td>\n",
       "      <td>FINANCE</td>\n",
       "      <td>2</td>\n",
       "      <td>71</td>\n",
       "      <td>84</td>\n",
       "      <td>2</td>\n",
       "    </tr>\n",
       "    <tr>\n",
       "      <th>999981</th>\n",
       "      <td>CEO</td>\n",
       "      <td>MASTERS</td>\n",
       "      <td>WEB</td>\n",
       "      <td>2</td>\n",
       "      <td>13</td>\n",
       "      <td>132</td>\n",
       "      <td>6</td>\n",
       "    </tr>\n",
       "    <tr>\n",
       "      <th>999982</th>\n",
       "      <td>JUNIOR</td>\n",
       "      <td>DOCTORAL</td>\n",
       "      <td>AUTO</td>\n",
       "      <td>24</td>\n",
       "      <td>49</td>\n",
       "      <td>113</td>\n",
       "      <td>0</td>\n",
       "    </tr>\n",
       "    <tr>\n",
       "      <th>999983</th>\n",
       "      <td>CTO</td>\n",
       "      <td>MASTERS</td>\n",
       "      <td>AUTO</td>\n",
       "      <td>18</td>\n",
       "      <td>52</td>\n",
       "      <td>122</td>\n",
       "      <td>0</td>\n",
       "    </tr>\n",
       "    <tr>\n",
       "      <th>999984</th>\n",
       "      <td>CTO</td>\n",
       "      <td>NONE</td>\n",
       "      <td>SERVICE</td>\n",
       "      <td>6</td>\n",
       "      <td>20</td>\n",
       "      <td>110</td>\n",
       "      <td>5</td>\n",
       "    </tr>\n",
       "    <tr>\n",
       "      <th>999985</th>\n",
       "      <td>CEO</td>\n",
       "      <td>NONE</td>\n",
       "      <td>AUTO</td>\n",
       "      <td>5</td>\n",
       "      <td>13</td>\n",
       "      <td>147</td>\n",
       "      <td>0</td>\n",
       "    </tr>\n",
       "    <tr>\n",
       "      <th>999986</th>\n",
       "      <td>VICE_PRESIDENT</td>\n",
       "      <td>HIGH_SCHOOL</td>\n",
       "      <td>AUTO</td>\n",
       "      <td>17</td>\n",
       "      <td>14</td>\n",
       "      <td>117</td>\n",
       "      <td>0</td>\n",
       "    </tr>\n",
       "    <tr>\n",
       "      <th>999987</th>\n",
       "      <td>CFO</td>\n",
       "      <td>MASTERS</td>\n",
       "      <td>FINANCE</td>\n",
       "      <td>1</td>\n",
       "      <td>99</td>\n",
       "      <td>124</td>\n",
       "      <td>2</td>\n",
       "    </tr>\n",
       "    <tr>\n",
       "      <th>999988</th>\n",
       "      <td>JUNIOR</td>\n",
       "      <td>DOCTORAL</td>\n",
       "      <td>HEALTH</td>\n",
       "      <td>4</td>\n",
       "      <td>70</td>\n",
       "      <td>79</td>\n",
       "      <td>3</td>\n",
       "    </tr>\n",
       "    <tr>\n",
       "      <th>999989</th>\n",
       "      <td>VICE_PRESIDENT</td>\n",
       "      <td>HIGH_SCHOOL</td>\n",
       "      <td>EDUCATION</td>\n",
       "      <td>15</td>\n",
       "      <td>89</td>\n",
       "      <td>72</td>\n",
       "      <td>1</td>\n",
       "    </tr>\n",
       "    <tr>\n",
       "      <th>999990</th>\n",
       "      <td>JANITOR</td>\n",
       "      <td>HIGH_SCHOOL</td>\n",
       "      <td>EDUCATION</td>\n",
       "      <td>17</td>\n",
       "      <td>23</td>\n",
       "      <td>89</td>\n",
       "      <td>1</td>\n",
       "    </tr>\n",
       "    <tr>\n",
       "      <th>999991</th>\n",
       "      <td>VICE_PRESIDENT</td>\n",
       "      <td>NONE</td>\n",
       "      <td>WEB</td>\n",
       "      <td>22</td>\n",
       "      <td>48</td>\n",
       "      <td>139</td>\n",
       "      <td>6</td>\n",
       "    </tr>\n",
       "    <tr>\n",
       "      <th>999992</th>\n",
       "      <td>MANAGER</td>\n",
       "      <td>DOCTORAL</td>\n",
       "      <td>WEB</td>\n",
       "      <td>16</td>\n",
       "      <td>16</td>\n",
       "      <td>143</td>\n",
       "      <td>6</td>\n",
       "    </tr>\n",
       "    <tr>\n",
       "      <th>999993</th>\n",
       "      <td>CFO</td>\n",
       "      <td>MASTERS</td>\n",
       "      <td>SERVICE</td>\n",
       "      <td>4</td>\n",
       "      <td>6</td>\n",
       "      <td>136</td>\n",
       "      <td>5</td>\n",
       "    </tr>\n",
       "    <tr>\n",
       "      <th>999994</th>\n",
       "      <td>CFO</td>\n",
       "      <td>BACHELORS</td>\n",
       "      <td>EDUCATION</td>\n",
       "      <td>18</td>\n",
       "      <td>77</td>\n",
       "      <td>115</td>\n",
       "      <td>1</td>\n",
       "    </tr>\n",
       "    <tr>\n",
       "      <th>999995</th>\n",
       "      <td>VICE_PRESIDENT</td>\n",
       "      <td>BACHELORS</td>\n",
       "      <td>HEALTH</td>\n",
       "      <td>19</td>\n",
       "      <td>94</td>\n",
       "      <td>88</td>\n",
       "      <td>3</td>\n",
       "    </tr>\n",
       "    <tr>\n",
       "      <th>999996</th>\n",
       "      <td>CTO</td>\n",
       "      <td>HIGH_SCHOOL</td>\n",
       "      <td>FINANCE</td>\n",
       "      <td>12</td>\n",
       "      <td>35</td>\n",
       "      <td>160</td>\n",
       "      <td>2</td>\n",
       "    </tr>\n",
       "    <tr>\n",
       "      <th>999997</th>\n",
       "      <td>JUNIOR</td>\n",
       "      <td>HIGH_SCHOOL</td>\n",
       "      <td>EDUCATION</td>\n",
       "      <td>16</td>\n",
       "      <td>81</td>\n",
       "      <td>64</td>\n",
       "      <td>1</td>\n",
       "    </tr>\n",
       "    <tr>\n",
       "      <th>999998</th>\n",
       "      <td>CFO</td>\n",
       "      <td>MASTERS</td>\n",
       "      <td>HEALTH</td>\n",
       "      <td>6</td>\n",
       "      <td>5</td>\n",
       "      <td>149</td>\n",
       "      <td>3</td>\n",
       "    </tr>\n",
       "    <tr>\n",
       "      <th>999999</th>\n",
       "      <td>JUNIOR</td>\n",
       "      <td>BACHELORS</td>\n",
       "      <td>EDUCATION</td>\n",
       "      <td>20</td>\n",
       "      <td>11</td>\n",
       "      <td>88</td>\n",
       "      <td>1</td>\n",
       "    </tr>\n",
       "  </tbody>\n",
       "</table>\n",
       "<p>999995 rows × 7 columns</p>\n",
       "</div>"
      ],
      "text/plain": [
       "               jobType       degree   industry  yearsExperience  \\\n",
       "0                  CFO      MASTERS     HEALTH               10   \n",
       "1                  CEO  HIGH_SCHOOL        WEB                3   \n",
       "2       VICE_PRESIDENT     DOCTORAL     HEALTH               10   \n",
       "3              MANAGER     DOCTORAL       AUTO                8   \n",
       "4       VICE_PRESIDENT    BACHELORS    FINANCE                8   \n",
       "5              MANAGER     DOCTORAL    FINANCE                2   \n",
       "6                  CFO         NONE     HEALTH               23   \n",
       "7               JUNIOR    BACHELORS  EDUCATION                9   \n",
       "8              JANITOR  HIGH_SCHOOL  EDUCATION                1   \n",
       "9       VICE_PRESIDENT    BACHELORS       AUTO               17   \n",
       "10             JANITOR  HIGH_SCHOOL     HEALTH               24   \n",
       "11                 CEO      MASTERS  EDUCATION                7   \n",
       "12              JUNIOR         NONE        OIL                8   \n",
       "13              JUNIOR      MASTERS    FINANCE               21   \n",
       "14             JANITOR         NONE       AUTO               21   \n",
       "15                 CTO      MASTERS    SERVICE               13   \n",
       "16              JUNIOR      MASTERS    SERVICE                1   \n",
       "17      VICE_PRESIDENT      MASTERS    SERVICE               23   \n",
       "18                 CEO      MASTERS    SERVICE               23   \n",
       "19                 CEO      MASTERS  EDUCATION                9   \n",
       "20             JANITOR         NONE    SERVICE               11   \n",
       "21              JUNIOR         NONE       AUTO               14   \n",
       "22              JUNIOR    BACHELORS     HEALTH               18   \n",
       "23              JUNIOR         NONE     HEALTH               20   \n",
       "24                 CEO    BACHELORS        WEB               12   \n",
       "25                 CFO    BACHELORS       AUTO                9   \n",
       "26                 CEO    BACHELORS       AUTO               24   \n",
       "27                 CTO      MASTERS       AUTO                9   \n",
       "28             JANITOR  HIGH_SCHOOL    FINANCE               20   \n",
       "29              SENIOR     DOCTORAL  EDUCATION                1   \n",
       "...                ...          ...        ...              ...   \n",
       "999970          SENIOR     DOCTORAL    FINANCE               23   \n",
       "999971         MANAGER         NONE    SERVICE               20   \n",
       "999972          JUNIOR         NONE  EDUCATION               23   \n",
       "999973         MANAGER     DOCTORAL    SERVICE                3   \n",
       "999974         MANAGER     DOCTORAL        WEB                6   \n",
       "999975          JUNIOR  HIGH_SCHOOL        OIL                9   \n",
       "999976  VICE_PRESIDENT      MASTERS    SERVICE               18   \n",
       "999977             CFO         NONE     HEALTH               12   \n",
       "999978  VICE_PRESIDENT         NONE    SERVICE               18   \n",
       "999979             CFO    BACHELORS        WEB               24   \n",
       "999980             CTO      MASTERS    FINANCE                2   \n",
       "999981             CEO      MASTERS        WEB                2   \n",
       "999982          JUNIOR     DOCTORAL       AUTO               24   \n",
       "999983             CTO      MASTERS       AUTO               18   \n",
       "999984             CTO         NONE    SERVICE                6   \n",
       "999985             CEO         NONE       AUTO                5   \n",
       "999986  VICE_PRESIDENT  HIGH_SCHOOL       AUTO               17   \n",
       "999987             CFO      MASTERS    FINANCE                1   \n",
       "999988          JUNIOR     DOCTORAL     HEALTH                4   \n",
       "999989  VICE_PRESIDENT  HIGH_SCHOOL  EDUCATION               15   \n",
       "999990         JANITOR  HIGH_SCHOOL  EDUCATION               17   \n",
       "999991  VICE_PRESIDENT         NONE        WEB               22   \n",
       "999992         MANAGER     DOCTORAL        WEB               16   \n",
       "999993             CFO      MASTERS    SERVICE                4   \n",
       "999994             CFO    BACHELORS  EDUCATION               18   \n",
       "999995  VICE_PRESIDENT    BACHELORS     HEALTH               19   \n",
       "999996             CTO  HIGH_SCHOOL    FINANCE               12   \n",
       "999997          JUNIOR  HIGH_SCHOOL  EDUCATION               16   \n",
       "999998             CFO      MASTERS     HEALTH                6   \n",
       "999999          JUNIOR    BACHELORS  EDUCATION               20   \n",
       "\n",
       "        milesFromMetropolis  salary  industry_enc  \n",
       "0                        83     130             3  \n",
       "1                        73     101             6  \n",
       "2                        38     137             3  \n",
       "3                        17     142             0  \n",
       "4                        16     163             2  \n",
       "5                        31     113             2  \n",
       "6                        24     178             3  \n",
       "7                        70      73             1  \n",
       "8                        54      31             1  \n",
       "9                        68     104             0  \n",
       "10                       30     102             3  \n",
       "11                       79     144             1  \n",
       "12                       29      79             4  \n",
       "13                       26     193             2  \n",
       "14                       81      47             0  \n",
       "15                        8     172             5  \n",
       "16                       91      47             5  \n",
       "17                       43     126             5  \n",
       "18                       66     122             5  \n",
       "19                       99      95             1  \n",
       "20                       96      32             5  \n",
       "21                       62      68             0  \n",
       "22                       69     105             3  \n",
       "23                       63      76             3  \n",
       "24                        8     202             6  \n",
       "25                       70     131             0  \n",
       "26                       40     158             0  \n",
       "27                        6     130             0  \n",
       "28                       23     101             2  \n",
       "29                        9      82             1  \n",
       "...                     ...     ...           ...  \n",
       "999970                    6     216             2  \n",
       "999971                   19     115             5  \n",
       "999972                   84      56             1  \n",
       "999973                   51     117             5  \n",
       "999974                   83     131             6  \n",
       "999975                   71      97             4  \n",
       "999976                   72     112             5  \n",
       "999977                   46     142             3  \n",
       "999978                   94      93             5  \n",
       "999979                   82     181             6  \n",
       "999980                   71      84             2  \n",
       "999981                   13     132             6  \n",
       "999982                   49     113             0  \n",
       "999983                   52     122             0  \n",
       "999984                   20     110             5  \n",
       "999985                   13     147             0  \n",
       "999986                   14     117             0  \n",
       "999987                   99     124             2  \n",
       "999988                   70      79             3  \n",
       "999989                   89      72             1  \n",
       "999990                   23      89             1  \n",
       "999991                   48     139             6  \n",
       "999992                   16     143             6  \n",
       "999993                    6     136             5  \n",
       "999994                   77     115             1  \n",
       "999995                   94      88             3  \n",
       "999996                   35     160             2  \n",
       "999997                   81      64             1  \n",
       "999998                    5     149             3  \n",
       "999999                   11      88             1  \n",
       "\n",
       "[999995 rows x 7 columns]"
      ]
     },
     "execution_count": 6,
     "metadata": {},
     "output_type": "execute_result"
    }
   ],
   "source": [
    "train_combined.dropna()"
   ]
  },
  {
   "cell_type": "code",
   "execution_count": 7,
   "metadata": {},
   "outputs": [],
   "source": [
    "# Ordinal Encoding - degree and jobtype\n",
    "\n",
    "degree = [['NONE', 'HIGH_SCHOOL', 'BACHELORS', 'MASTERS', 'DOCTORAL']]\n",
    "degree_array = np.asarray(train_combined.degree).reshape(-1,1)\n",
    "\n",
    "from sklearn.preprocessing import OrdinalEncoder\n",
    "\n",
    "enc = OrdinalEncoder(categories=degree)\n",
    "degree_ord = enc.fit_transform(degree_array)\n",
    "\n",
    "train_combined['degree_ord'] = degree_ord\n",
    "# ordered by average salary\n",
    "titles = [['JANITOR', 'JUNIOR', 'SENIOR', 'MANAGER', 'VICE_PRESIDENT', 'CFO', 'CTO', 'CEO']]\n",
    "titles_array = np.asarray(train_combined.jobType).reshape(-1,1)\n",
    "\n",
    "enc = OrdinalEncoder(categories=titles)\n",
    "titles_ord = enc.fit_transform(titles_array)\n",
    "\n",
    "train_combined['jobType_ord'] = titles_ord"
   ]
  },
  {
   "cell_type": "code",
   "execution_count": 8,
   "metadata": {},
   "outputs": [],
   "source": [
    "#prepare final data frames\n",
    "\n",
    "train_num = train_combined.select_dtypes(exclude = 'object')\n",
    "\n",
    "\n",
    "\n",
    "train_final = train_num.drop(['salary'],axis=1)\n",
    "\n",
    "train_salary = train_combined['salary']"
   ]
  },
  {
   "cell_type": "code",
   "execution_count": 11,
   "metadata": {},
   "outputs": [
    {
     "data": {
      "text/html": [
       "<div>\n",
       "<style scoped>\n",
       "    .dataframe tbody tr th:only-of-type {\n",
       "        vertical-align: middle;\n",
       "    }\n",
       "\n",
       "    .dataframe tbody tr th {\n",
       "        vertical-align: top;\n",
       "    }\n",
       "\n",
       "    .dataframe thead th {\n",
       "        text-align: right;\n",
       "    }\n",
       "</style>\n",
       "<table border=\"1\" class=\"dataframe\">\n",
       "  <thead>\n",
       "    <tr style=\"text-align: right;\">\n",
       "      <th></th>\n",
       "      <th>yearsExperience</th>\n",
       "      <th>milesFromMetropolis</th>\n",
       "      <th>EDUCATION</th>\n",
       "      <th>FINANCE</th>\n",
       "      <th>HEALTH</th>\n",
       "      <th>OIL</th>\n",
       "      <th>SERVICE</th>\n",
       "      <th>WEB</th>\n",
       "      <th>degree_ord</th>\n",
       "      <th>jobType_ord</th>\n",
       "    </tr>\n",
       "  </thead>\n",
       "  <tbody>\n",
       "    <tr>\n",
       "      <th>0</th>\n",
       "      <td>10</td>\n",
       "      <td>83</td>\n",
       "      <td>0</td>\n",
       "      <td>0</td>\n",
       "      <td>1</td>\n",
       "      <td>0</td>\n",
       "      <td>0</td>\n",
       "      <td>0</td>\n",
       "      <td>3.0</td>\n",
       "      <td>5.0</td>\n",
       "    </tr>\n",
       "    <tr>\n",
       "      <th>1</th>\n",
       "      <td>3</td>\n",
       "      <td>73</td>\n",
       "      <td>0</td>\n",
       "      <td>0</td>\n",
       "      <td>0</td>\n",
       "      <td>0</td>\n",
       "      <td>0</td>\n",
       "      <td>1</td>\n",
       "      <td>1.0</td>\n",
       "      <td>7.0</td>\n",
       "    </tr>\n",
       "    <tr>\n",
       "      <th>2</th>\n",
       "      <td>10</td>\n",
       "      <td>38</td>\n",
       "      <td>0</td>\n",
       "      <td>0</td>\n",
       "      <td>1</td>\n",
       "      <td>0</td>\n",
       "      <td>0</td>\n",
       "      <td>0</td>\n",
       "      <td>4.0</td>\n",
       "      <td>4.0</td>\n",
       "    </tr>\n",
       "    <tr>\n",
       "      <th>3</th>\n",
       "      <td>8</td>\n",
       "      <td>17</td>\n",
       "      <td>0</td>\n",
       "      <td>0</td>\n",
       "      <td>0</td>\n",
       "      <td>0</td>\n",
       "      <td>0</td>\n",
       "      <td>0</td>\n",
       "      <td>4.0</td>\n",
       "      <td>3.0</td>\n",
       "    </tr>\n",
       "    <tr>\n",
       "      <th>4</th>\n",
       "      <td>8</td>\n",
       "      <td>16</td>\n",
       "      <td>0</td>\n",
       "      <td>1</td>\n",
       "      <td>0</td>\n",
       "      <td>0</td>\n",
       "      <td>0</td>\n",
       "      <td>0</td>\n",
       "      <td>2.0</td>\n",
       "      <td>4.0</td>\n",
       "    </tr>\n",
       "  </tbody>\n",
       "</table>\n",
       "</div>"
      ],
      "text/plain": [
       "   yearsExperience  milesFromMetropolis  EDUCATION  FINANCE  HEALTH  OIL  \\\n",
       "0               10                   83          0        0       1    0   \n",
       "1                3                   73          0        0       0    0   \n",
       "2               10                   38          0        0       1    0   \n",
       "3                8                   17          0        0       0    0   \n",
       "4                8                   16          0        1       0    0   \n",
       "\n",
       "   SERVICE  WEB  degree_ord  jobType_ord  \n",
       "0        0    0         3.0          5.0  \n",
       "1        0    1         1.0          7.0  \n",
       "2        0    0         4.0          4.0  \n",
       "3        0    0         4.0          3.0  \n",
       "4        0    0         2.0          4.0  "
      ]
     },
     "execution_count": 11,
     "metadata": {},
     "output_type": "execute_result"
    }
   ],
   "source": [
    "train_final = train_final.drop(['industry_enc'],axis = 1)\n",
    "train_final.head()"
   ]
  },
  {
   "cell_type": "code",
   "execution_count": 15,
   "metadata": {},
   "outputs": [
    {
     "data": {
      "text/html": [
       "<div>\n",
       "<style scoped>\n",
       "    .dataframe tbody tr th:only-of-type {\n",
       "        vertical-align: middle;\n",
       "    }\n",
       "\n",
       "    .dataframe tbody tr th {\n",
       "        vertical-align: top;\n",
       "    }\n",
       "\n",
       "    .dataframe thead th {\n",
       "        text-align: right;\n",
       "    }\n",
       "</style>\n",
       "<table border=\"1\" class=\"dataframe\">\n",
       "  <thead>\n",
       "    <tr style=\"text-align: right;\">\n",
       "      <th></th>\n",
       "      <th>yearsExperience</th>\n",
       "      <th>milesFromMetropolis</th>\n",
       "      <th>salary</th>\n",
       "      <th>EDUCATION</th>\n",
       "      <th>FINANCE</th>\n",
       "      <th>HEALTH</th>\n",
       "      <th>OIL</th>\n",
       "      <th>SERVICE</th>\n",
       "      <th>WEB</th>\n",
       "      <th>industry_enc</th>\n",
       "      <th>degree_ord</th>\n",
       "      <th>jobType_ord</th>\n",
       "    </tr>\n",
       "  </thead>\n",
       "  <tbody>\n",
       "    <tr>\n",
       "      <th>0</th>\n",
       "      <td>10</td>\n",
       "      <td>83</td>\n",
       "      <td>130</td>\n",
       "      <td>0</td>\n",
       "      <td>0</td>\n",
       "      <td>1</td>\n",
       "      <td>0</td>\n",
       "      <td>0</td>\n",
       "      <td>0</td>\n",
       "      <td>3</td>\n",
       "      <td>3.0</td>\n",
       "      <td>5.0</td>\n",
       "    </tr>\n",
       "    <tr>\n",
       "      <th>1</th>\n",
       "      <td>3</td>\n",
       "      <td>73</td>\n",
       "      <td>101</td>\n",
       "      <td>0</td>\n",
       "      <td>0</td>\n",
       "      <td>0</td>\n",
       "      <td>0</td>\n",
       "      <td>0</td>\n",
       "      <td>1</td>\n",
       "      <td>6</td>\n",
       "      <td>1.0</td>\n",
       "      <td>7.0</td>\n",
       "    </tr>\n",
       "    <tr>\n",
       "      <th>2</th>\n",
       "      <td>10</td>\n",
       "      <td>38</td>\n",
       "      <td>137</td>\n",
       "      <td>0</td>\n",
       "      <td>0</td>\n",
       "      <td>1</td>\n",
       "      <td>0</td>\n",
       "      <td>0</td>\n",
       "      <td>0</td>\n",
       "      <td>3</td>\n",
       "      <td>4.0</td>\n",
       "      <td>4.0</td>\n",
       "    </tr>\n",
       "    <tr>\n",
       "      <th>3</th>\n",
       "      <td>8</td>\n",
       "      <td>17</td>\n",
       "      <td>142</td>\n",
       "      <td>0</td>\n",
       "      <td>0</td>\n",
       "      <td>0</td>\n",
       "      <td>0</td>\n",
       "      <td>0</td>\n",
       "      <td>0</td>\n",
       "      <td>0</td>\n",
       "      <td>4.0</td>\n",
       "      <td>3.0</td>\n",
       "    </tr>\n",
       "    <tr>\n",
       "      <th>4</th>\n",
       "      <td>8</td>\n",
       "      <td>16</td>\n",
       "      <td>163</td>\n",
       "      <td>0</td>\n",
       "      <td>1</td>\n",
       "      <td>0</td>\n",
       "      <td>0</td>\n",
       "      <td>0</td>\n",
       "      <td>0</td>\n",
       "      <td>2</td>\n",
       "      <td>2.0</td>\n",
       "      <td>4.0</td>\n",
       "    </tr>\n",
       "  </tbody>\n",
       "</table>\n",
       "</div>"
      ],
      "text/plain": [
       "   yearsExperience  milesFromMetropolis  salary  EDUCATION  FINANCE  HEALTH  \\\n",
       "0               10                   83     130          0        0       1   \n",
       "1                3                   73     101          0        0       0   \n",
       "2               10                   38     137          0        0       1   \n",
       "3                8                   17     142          0        0       0   \n",
       "4                8                   16     163          0        1       0   \n",
       "\n",
       "   OIL  SERVICE  WEB  industry_enc  degree_ord  jobType_ord  \n",
       "0    0        0    0             3         3.0          5.0  \n",
       "1    0        0    1             6         1.0          7.0  \n",
       "2    0        0    0             3         4.0          4.0  \n",
       "3    0        0    0             0         4.0          3.0  \n",
       "4    0        0    0             2         2.0          4.0  "
      ]
     },
     "execution_count": 15,
     "metadata": {},
     "output_type": "execute_result"
    }
   ],
   "source": [
    "train_num.head()"
   ]
  },
  {
   "cell_type": "code",
   "execution_count": 10,
   "metadata": {},
   "outputs": [
    {
     "name": "stdout",
     "output_type": "stream",
     "text": [
      "{0.0, 1.0, 2.0, 3.0, 4.0} {0.0, 1.0, 2.0, 3.0, 4.0, 5.0, 6.0, 7.0}\n"
     ]
    }
   ],
   "source": [
    "print(set(train_num['degree_ord']), set(train_num['jobType_ord']))\n",
    "\n",
    "# degree 2-4 and type4-7 ==A\n",
    "# degree 0-1 and type4-7 ==B\n",
    "# degree 2-4 and type2-3 ==C\n",
    "# degree 0-1 and type2-3 ==D\n",
    "# degree 2-4 and type0-1 ==E\n",
    "# degree 0-1 and type0-1 ==F\n",
    "\n",
    "def reclassjob(df):\n",
    "    #some informative note should go here\n",
    "    if (2 <= df.degree_ord <= 4 and 4 <= df.jobType_ord <= 7):\n",
    "        return 5\n",
    "    elif (0 <= df.degree_ord <= 1 and 4 <= df.jobType_ord <= 7):\n",
    "        return 4\n",
    "    elif (2 <= df.degree_ord <= 4 and 2 <= df.jobType_ord <= 3):\n",
    "        return 3\n",
    "    elif (0 <= df.degree_ord <= 1 and 2 <= df.jobType_ord <= 3):\n",
    "        return 2\n",
    "    elif (2 <= df.degree_ord <= 4 and 0 <= df.jobType_ord <= 1):\n",
    "        return 1\n",
    "    else:\n",
    "        return 0\n",
    "        "
   ]
  },
  {
   "cell_type": "code",
   "execution_count": 11,
   "metadata": {},
   "outputs": [
    {
     "name": "stderr",
     "output_type": "stream",
     "text": [
      "c:\\Anaconda\\lib\\site-packages\\ipykernel_launcher.py:1: SettingWithCopyWarning: \n",
      "A value is trying to be set on a copy of a slice from a DataFrame.\n",
      "Try using .loc[row_indexer,col_indexer] = value instead\n",
      "\n",
      "See the caveats in the documentation: http://pandas.pydata.org/pandas-docs/stable/indexing.html#indexing-view-versus-copy\n",
      "  \"\"\"Entry point for launching an IPython kernel.\n"
     ]
    }
   ],
   "source": [
    "train_num['customclass'] = train_num.apply(reclassjob,axis=1)"
   ]
  },
  {
   "cell_type": "code",
   "execution_count": 78,
   "metadata": {},
   "outputs": [
    {
     "data": {
      "text/plain": [
       "0    130\n",
       "1    101\n",
       "2    137\n",
       "3    142\n",
       "4    163\n",
       "Name: salary, dtype: int64"
      ]
     },
     "execution_count": 78,
     "metadata": {},
     "output_type": "execute_result"
    }
   ],
   "source": [
    "train_salary.head()"
   ]
  },
  {
   "cell_type": "markdown",
   "metadata": {},
   "source": [
    "### ---- 4 Explore the data (EDA) ----"
   ]
  },
  {
   "cell_type": "code",
   "execution_count": 30,
   "metadata": {},
   "outputs": [
    {
     "data": {
      "text/plain": [
       "jobId                  0\n",
       "companyId              0\n",
       "jobType                0\n",
       "degree                 0\n",
       "major                  0\n",
       "industry               0\n",
       "yearsExperience        0\n",
       "milesFromMetropolis    0\n",
       "dtype: int64"
      ]
     },
     "execution_count": 30,
     "metadata": {},
     "output_type": "execute_result"
    }
   ],
   "source": [
    "#summarize each feature variable\n",
    "#summarize the target variable\n",
    "#look for correlation between each feature and the target\n",
    "#look for correlation between features\n",
    "\n",
    "train_features.describe()\n",
    "\n",
    "train_features.isnull().sum()\n"
   ]
  },
  {
   "cell_type": "code",
   "execution_count": 45,
   "metadata": {},
   "outputs": [
    {
     "data": {
      "text/plain": [
       "count    999995.000000\n",
       "mean          5.419788\n",
       "std           2.398849\n",
       "min           0.000000\n",
       "25%           4.000000\n",
       "50%           7.000000\n",
       "75%           7.000000\n",
       "max           8.000000\n",
       "Name: major_enc, dtype: float64"
      ]
     },
     "execution_count": 45,
     "metadata": {},
     "output_type": "execute_result"
    }
   ],
   "source": [
    "train_combined.describe()"
   ]
  },
  {
   "cell_type": "code",
   "execution_count": 12,
   "metadata": {},
   "outputs": [
    {
     "data": {
      "text/plain": [
       "<BarContainer object of 5 artists>"
      ]
     },
     "execution_count": 12,
     "metadata": {},
     "output_type": "execute_result"
    },
    {
     "data": {
      "image/png": "[encoded data removed]",
      "text/plain": [
       "<Figure size 432x288 with 1 Axes>"
      ]
     },
     "metadata": {
      "needs_background": "light"
     },
     "output_type": "display_data"
    }
   ],
   "source": [
    "x = train_combined.degree.groupby(train_combined['degree']).count()\n",
    "\n",
    "plt.bar(x.index,x)"
   ]
  },
  {
   "cell_type": "code",
   "execution_count": 8,
   "metadata": {},
   "outputs": [],
   "source": [
    "numerical_features = ['yearsExperience','milesFromMetropolis']\n",
    "cat_features = ['jobType','degree','industry']\n",
    "\n",
    "subsize = str(round(len(cat_features))-1)"
   ]
  },
  {
   "cell_type": "code",
   "execution_count": 9,
   "metadata": {},
   "outputs": [
    {
     "data": {
      "image/png": "[encoded data removed]",
      "text/plain": [
       "<Figure size 432x288 with 1 Axes>"
      ]
     },
     "metadata": {
      "needs_background": "light"
     },
     "output_type": "display_data"
    },
    {
     "data": {
      "image/png": "[encoded data removed]",
      "text/plain": [
       "<Figure size 432x288 with 1 Axes>"
      ]
     },
     "metadata": {
      "needs_background": "light"
     },
     "output_type": "display_data"
    },
    {
     "data": {
      "image/png": "[encoded data removed]",
      "text/plain": [
       "<Figure size 432x288 with 1 Axes>"
      ]
     },
     "metadata": {
      "needs_background": "light"
     },
     "output_type": "display_data"
    }
   ],
   "source": [
    "def cat_bar(x,y):\n",
    "    data = x.groupby(x).count()  \n",
    "#     plt.bar(data.index,data)\n",
    "    plt.boxplot(data)\n",
    "    plt.xticks(rotation=90)\n",
    "    plt.show()\n",
    "\n",
    "\n",
    "for i in cat_features:\n",
    "    cat_bar(train_combined[i],cat_features)\n"
   ]
  },
  {
   "cell_type": "code",
   "execution_count": 60,
   "metadata": {},
   "outputs": [
    {
     "data": {
      "text/html": [
       "<div>\n",
       "<style scoped>\n",
       "    .dataframe tbody tr th:only-of-type {\n",
       "        vertical-align: middle;\n",
       "    }\n",
       "\n",
       "    .dataframe tbody tr th {\n",
       "        vertical-align: top;\n",
       "    }\n",
       "\n",
       "    .dataframe thead th {\n",
       "        text-align: right;\n",
       "    }\n",
       "</style>\n",
       "<table border=\"1\" class=\"dataframe\">\n",
       "  <thead>\n",
       "    <tr style=\"text-align: right;\">\n",
       "      <th></th>\n",
       "      <th>yearsExperience</th>\n",
       "      <th>milesFromMetropolis</th>\n",
       "      <th>salary</th>\n",
       "      <th>industry_enc</th>\n",
       "      <th>degree_ord</th>\n",
       "      <th>jobType_ord</th>\n",
       "    </tr>\n",
       "    <tr>\n",
       "      <th>jobType</th>\n",
       "      <th></th>\n",
       "      <th></th>\n",
       "      <th></th>\n",
       "      <th></th>\n",
       "      <th></th>\n",
       "      <th></th>\n",
       "    </tr>\n",
       "  </thead>\n",
       "  <tbody>\n",
       "    <tr>\n",
       "      <th>CEO</th>\n",
       "      <td>12.485572</td>\n",
       "      <td>48.066349</td>\n",
       "      <td>150.155763</td>\n",
       "      <td>3.036681</td>\n",
       "      <td>2.085008</td>\n",
       "      <td>7.0</td>\n",
       "    </tr>\n",
       "    <tr>\n",
       "      <th>CFO</th>\n",
       "      <td>12.798705</td>\n",
       "      <td>47.162137</td>\n",
       "      <td>143.129997</td>\n",
       "      <td>3.069546</td>\n",
       "      <td>2.126334</td>\n",
       "      <td>5.0</td>\n",
       "    </tr>\n",
       "    <tr>\n",
       "      <th>CTO</th>\n",
       "      <td>12.828036</td>\n",
       "      <td>47.146234</td>\n",
       "      <td>143.208874</td>\n",
       "      <td>3.071490</td>\n",
       "      <td>2.131332</td>\n",
       "      <td>6.0</td>\n",
       "    </tr>\n",
       "    <tr>\n",
       "      <th>JANITOR</th>\n",
       "      <td>18.983989</td>\n",
       "      <td>24.799126</td>\n",
       "      <td>116.452803</td>\n",
       "      <td>3.278742</td>\n",
       "      <td>0.507780</td>\n",
       "      <td>0.0</td>\n",
       "    </tr>\n",
       "    <tr>\n",
       "      <th>JUNIOR</th>\n",
       "      <td>15.628084</td>\n",
       "      <td>38.185723</td>\n",
       "      <td>124.715868</td>\n",
       "      <td>3.211292</td>\n",
       "      <td>2.481544</td>\n",
       "      <td>1.0</td>\n",
       "    </tr>\n",
       "    <tr>\n",
       "      <th>MANAGER</th>\n",
       "      <td>13.936937</td>\n",
       "      <td>43.721678</td>\n",
       "      <td>132.074810</td>\n",
       "      <td>3.126911</td>\n",
       "      <td>2.282197</td>\n",
       "      <td>3.0</td>\n",
       "    </tr>\n",
       "    <tr>\n",
       "      <th>SENIOR</th>\n",
       "      <td>14.707006</td>\n",
       "      <td>41.009145</td>\n",
       "      <td>128.144101</td>\n",
       "      <td>3.175402</td>\n",
       "      <td>2.392599</td>\n",
       "      <td>2.0</td>\n",
       "    </tr>\n",
       "    <tr>\n",
       "      <th>VICE_PRESIDENT</th>\n",
       "      <td>13.304653</td>\n",
       "      <td>45.603642</td>\n",
       "      <td>137.178290</td>\n",
       "      <td>3.104158</td>\n",
       "      <td>2.201350</td>\n",
       "      <td>4.0</td>\n",
       "    </tr>\n",
       "  </tbody>\n",
       "</table>\n",
       "</div>"
      ],
      "text/plain": [
       "                yearsExperience  milesFromMetropolis      salary  \\\n",
       "jobType                                                            \n",
       "CEO                   12.485572            48.066349  150.155763   \n",
       "CFO                   12.798705            47.162137  143.129997   \n",
       "CTO                   12.828036            47.146234  143.208874   \n",
       "JANITOR               18.983989            24.799126  116.452803   \n",
       "JUNIOR                15.628084            38.185723  124.715868   \n",
       "MANAGER               13.936937            43.721678  132.074810   \n",
       "SENIOR                14.707006            41.009145  128.144101   \n",
       "VICE_PRESIDENT        13.304653            45.603642  137.178290   \n",
       "\n",
       "                industry_enc  degree_ord  jobType_ord  \n",
       "jobType                                                \n",
       "CEO                 3.036681    2.085008          7.0  \n",
       "CFO                 3.069546    2.126334          5.0  \n",
       "CTO                 3.071490    2.131332          6.0  \n",
       "JANITOR             3.278742    0.507780          0.0  \n",
       "JUNIOR              3.211292    2.481544          1.0  \n",
       "MANAGER             3.126911    2.282197          3.0  \n",
       "SENIOR              3.175402    2.392599          2.0  \n",
       "VICE_PRESIDENT      3.104158    2.201350          4.0  "
      ]
     },
     "execution_count": 60,
     "metadata": {},
     "output_type": "execute_result"
    }
   ],
   "source": [
    "train_combined[train_combined.salary>100].groupby(train_combined['jobType']).mean()"
   ]
  },
  {
   "cell_type": "code",
   "execution_count": 39,
   "metadata": {},
   "outputs": [
    {
     "data": {
      "image/png": "[encoded data removed]",
      "text/plain": [
       "<Figure size 288x288 with 1 Axes>"
      ]
     },
     "metadata": {
      "needs_background": "light"
     },
     "output_type": "display_data"
    }
   ],
   "source": [
    "plt.matshow(train_combined.corr())\n",
    "plt.show()"
   ]
  },
  {
   "cell_type": "code",
   "execution_count": 10,
   "metadata": {},
   "outputs": [
    {
     "data": {
      "text/plain": [
       "<matplotlib.axes._subplots.AxesSubplot at 0x5506b70>"
      ]
     },
     "execution_count": 10,
     "metadata": {},
     "output_type": "execute_result"
    },
    {
     "data": {
      "image/png": "[encoded data removed]",
      "text/plain": [
       "<Figure size 432x288 with 2 Axes>"
      ]
     },
     "metadata": {
      "needs_background": "light"
     },
     "output_type": "display_data"
    }
   ],
   "source": [
    "sns.heatmap(train_combined.corr())"
   ]
  },
  {
   "cell_type": "code",
   "execution_count": 52,
   "metadata": {},
   "outputs": [],
   "source": [
    "train_combined.dtypes\n",
    "# train_combined.corr()\n",
    "\n",
    "# drop major \n",
    "train_combined = train_combined.drop('major_enc',axis=1)"
   ]
  },
  {
   "cell_type": "markdown",
   "metadata": {},
   "source": [
    "### ---- 5 Establish a baseline ----"
   ]
  },
  {
   "cell_type": "code",
   "execution_count": 13,
   "metadata": {},
   "outputs": [],
   "source": [
    "from sklearn.model_selection import train_test_split\n",
    "\n",
    "train_num_features, test_num_features, train_num_label, test_num_label = train_test_split(train_final,train_salary)"
   ]
  },
  {
   "cell_type": "code",
   "execution_count": 14,
   "metadata": {},
   "outputs": [],
   "source": [
    "#select a reasonable metric (MSE in this case)\n",
    "#create an extremely simple model and measure its efficacy\n",
    "#e.g. use \"average salary\" for each industry as your model and then measure MSE\n",
    "#during 5-fold cross-validation\n",
    "\n",
    "\n",
    "from sklearn.linear_model import LinearRegression\n",
    "lm = LinearRegression(n_jobs=-1)\n",
    "\n",
    "model = lm.fit(train_num_features,train_num_label)\n",
    "predict = model.predict(test_num_features)\n"
   ]
  },
  {
   "cell_type": "code",
   "execution_count": 15,
   "metadata": {},
   "outputs": [
    {
     "data": {
      "text/plain": [
       "412.4768313267906"
      ]
     },
     "execution_count": 15,
     "metadata": {},
     "output_type": "execute_result"
    }
   ],
   "source": [
    "from sklearn.metrics import mean_squared_error\n",
    "mean_squared_error(test_num_label,predict)"
   ]
  },
  {
   "cell_type": "code",
   "execution_count": null,
   "metadata": {},
   "outputs": [],
   "source": [
    "410.3944048673012"
   ]
  },
  {
   "cell_type": "code",
   "execution_count": 82,
   "metadata": {},
   "outputs": [
    {
     "data": {
      "text/html": [
       "<div>\n",
       "<style scoped>\n",
       "    .dataframe tbody tr th:only-of-type {\n",
       "        vertical-align: middle;\n",
       "    }\n",
       "\n",
       "    .dataframe tbody tr th {\n",
       "        vertical-align: top;\n",
       "    }\n",
       "\n",
       "    .dataframe thead th {\n",
       "        text-align: right;\n",
       "    }\n",
       "</style>\n",
       "<table border=\"1\" class=\"dataframe\">\n",
       "  <thead>\n",
       "    <tr style=\"text-align: right;\">\n",
       "      <th></th>\n",
       "      <th>yearsExperience</th>\n",
       "      <th>milesFromMetropolis</th>\n",
       "      <th>industry_enc</th>\n",
       "    </tr>\n",
       "  </thead>\n",
       "  <tbody>\n",
       "    <tr>\n",
       "      <th>count</th>\n",
       "      <td>749996.000000</td>\n",
       "      <td>749996.000000</td>\n",
       "      <td>749996.000000</td>\n",
       "    </tr>\n",
       "    <tr>\n",
       "      <th>mean</th>\n",
       "      <td>11.994971</td>\n",
       "      <td>49.534714</td>\n",
       "      <td>3.001663</td>\n",
       "    </tr>\n",
       "    <tr>\n",
       "      <th>std</th>\n",
       "      <td>7.212770</td>\n",
       "      <td>28.878453</td>\n",
       "      <td>2.000710</td>\n",
       "    </tr>\n",
       "    <tr>\n",
       "      <th>min</th>\n",
       "      <td>0.000000</td>\n",
       "      <td>0.000000</td>\n",
       "      <td>0.000000</td>\n",
       "    </tr>\n",
       "    <tr>\n",
       "      <th>25%</th>\n",
       "      <td>6.000000</td>\n",
       "      <td>25.000000</td>\n",
       "      <td>1.000000</td>\n",
       "    </tr>\n",
       "    <tr>\n",
       "      <th>50%</th>\n",
       "      <td>12.000000</td>\n",
       "      <td>50.000000</td>\n",
       "      <td>3.000000</td>\n",
       "    </tr>\n",
       "    <tr>\n",
       "      <th>75%</th>\n",
       "      <td>18.000000</td>\n",
       "      <td>75.000000</td>\n",
       "      <td>5.000000</td>\n",
       "    </tr>\n",
       "    <tr>\n",
       "      <th>max</th>\n",
       "      <td>24.000000</td>\n",
       "      <td>99.000000</td>\n",
       "      <td>6.000000</td>\n",
       "    </tr>\n",
       "  </tbody>\n",
       "</table>\n",
       "</div>"
      ],
      "text/plain": [
       "       yearsExperience  milesFromMetropolis   industry_enc\n",
       "count    749996.000000        749996.000000  749996.000000\n",
       "mean         11.994971            49.534714       3.001663\n",
       "std           7.212770            28.878453       2.000710\n",
       "min           0.000000             0.000000       0.000000\n",
       "25%           6.000000            25.000000       1.000000\n",
       "50%          12.000000            50.000000       3.000000\n",
       "75%          18.000000            75.000000       5.000000\n",
       "max          24.000000            99.000000       6.000000"
      ]
     },
     "execution_count": 82,
     "metadata": {},
     "output_type": "execute_result"
    }
   ],
   "source": [
    "train_num_features.describe()"
   ]
  },
  {
   "cell_type": "markdown",
   "metadata": {},
   "source": [
    "### ---- 6 Hypothesize solution ----"
   ]
  },
  {
   "cell_type": "code",
   "execution_count": 19,
   "metadata": {},
   "outputs": [],
   "source": [
    "# Ridge Regression or ElasticNet to help alleviate difficulty in predicting less frequent jobtypes\n",
    "# RandomForestRegressor"
   ]
  },
  {
   "cell_type": "markdown",
   "metadata": {},
   "source": [
    "Brainstorm 3 models that you think may improve results over the baseline model based on your EDA and explain why they're reasonable solutions here.\n",
    "\n",
    "Also write down any new features that you think you should try adding to the model based on your EDA, e.g. interaction variables, summary statistics for each group, etc"
   ]
  },
  {
   "cell_type": "markdown",
   "metadata": {},
   "source": [
    "## Part 3 - DEVELOP"
   ]
  },
  {
   "cell_type": "markdown",
   "metadata": {},
   "source": [
    "You will cycle through creating features, tuning models, and training/validing models (steps 7-9) until you've reached your efficacy goal\n",
    "\n",
    "#### Your metric will be MSE and your goal is:\n",
    " - <360 for entry-level data science roles\n",
    " - <320 for senior data science roles"
   ]
  },
  {
   "cell_type": "markdown",
   "metadata": {},
   "source": [
    "### ---- 7 Engineer features  ----"
   ]
  },
  {
   "cell_type": "code",
   "execution_count": 20,
   "metadata": {},
   "outputs": [],
   "source": [
    "#make sure that data is ready for modeling\n",
    "#create any new features needed to potentially enhance model"
   ]
  },
  {
   "cell_type": "markdown",
   "metadata": {},
   "source": [
    "### ---- 8 Create models ----"
   ]
  },
  {
   "cell_type": "code",
   "execution_count": 16,
   "metadata": {},
   "outputs": [
    {
     "data": {
      "text/plain": [
       "492.35306629897866"
      ]
     },
     "execution_count": 16,
     "metadata": {},
     "output_type": "execute_result"
    }
   ],
   "source": [
    "#sklearn.linear_model.ElasticNetCV\n",
    "\n",
    "from sklearn.linear_model import ElasticNetCV\n",
    "\n",
    "enr = ElasticNetCV(max_iter=10000,cv=5,n_jobs=-1)\n",
    "\n",
    "model = enr.fit(train_num_features,train_num_label)\n",
    "\n",
    "predict = model.predict(test_num_features)\n",
    "\n",
    "mean_squared_error(test_num_label,predict)\n",
    "\n",
    "\n"
   ]
  },
  {
   "cell_type": "code",
   "execution_count": null,
   "metadata": {},
   "outputs": [],
   "source": [
    "489.4892428466449"
   ]
  },
  {
   "cell_type": "code",
   "execution_count": 17,
   "metadata": {},
   "outputs": [
    {
     "data": {
      "text/plain": [
       "498.50002597691974"
      ]
     },
     "execution_count": 17,
     "metadata": {},
     "output_type": "execute_result"
    }
   ],
   "source": [
    "from sklearn.ensemble import RandomForestRegressor\n",
    "rf = RandomForestRegressor(n_estimators=500,n_jobs = -1)\n",
    "model = rf.fit(train_num_features,train_num_label)\n",
    "predict = model.predict(test_num_features)\n",
    "mean_squared_error(test_num_label,predict)"
   ]
  },
  {
   "cell_type": "code",
   "execution_count": null,
   "metadata": {},
   "outputs": [],
   "source": [
    "498.50002597691974"
   ]
  },
  {
   "cell_type": "code",
   "execution_count": 17,
   "metadata": {},
   "outputs": [],
   "source": [
    "from sklearn.ensemble import RandomForestRegressor\n",
    "from sklearn.model_selection import RandomizedSearchCV"
   ]
  },
  {
   "cell_type": "code",
   "execution_count": null,
   "metadata": {},
   "outputs": [],
   "source": [
    "rf.params"
   ]
  },
  {
   "cell_type": "code",
   "execution_count": null,
   "metadata": {},
   "outputs": [
    {
     "name": "stdout",
     "output_type": "stream",
     "text": [
      "Fitting 3 folds for each of 50 candidates, totalling 150 fits\n"
     ]
    },
    {
     "name": "stderr",
     "output_type": "stream",
     "text": [
      "[Parallel(n_jobs=3)]: Using backend LokyBackend with 3 concurrent workers.\n",
      "[Parallel(n_jobs=3)]: Done  26 tasks      | elapsed: 80.4min\n"
     ]
    }
   ],
   "source": [
    "# sklearn.ensemble.RandomForestRegressor\n",
    "\n",
    "from sklearn.ensemble import RandomForestRegressor\n",
    "from sklearn.model_selection import GridSearchCV\n",
    "\n",
    "\n",
    "# Number of trees in random forest\n",
    "n_estimators = [250,500,750]\n",
    "# Number of features to consider at every split\n",
    "max_features = ['auto', 'sqrt','log2',None]\n",
    "# Maximum number of levels in tree\n",
    "max_depth = [int(x) for x in np.linspace(10, 50, num = 3)]\n",
    "max_depth.append(None)\n",
    "# Minimum number of samples required to split a node\n",
    "min_samples_split = [10,15,20]\n",
    "# Minimum number of samples required at each leaf node\n",
    "min_samples_leaf = [4, 6, 8]\n",
    "warm_start = [True,False]\n",
    "\n",
    "# Create the random grid\n",
    "param_grid = {'n_estimators': n_estimators,\n",
    "               'max_features': max_features,\n",
    "               'max_depth': max_depth,\n",
    "               'min_samples_split': min_samples_split,\n",
    "               'min_samples_leaf': min_samples_leaf,\n",
    "               'warm_start': warm_start\n",
    "               }\n",
    "# First create the base model to tune\n",
    "rf = RandomForestRegressor()\n",
    "# Random search of parameters, using 3 fold cross validation, \n",
    "# search across 100 different combinations, and use all available cores\n",
    "rf_grid = RandomizedSearchCV(estimator = rf, param_distributions = param_grid, cv = 3, verbose=3, n_jobs = 3,scoring='neg_mean_squared_error',n_iter=50)\n",
    "# Fit the random search model\n",
    "rf_grid.fit(train_num_features,train_num_label)\n"
   ]
  },
  {
   "cell_type": "code",
   "execution_count": 18,
   "metadata": {},
   "outputs": [
    {
     "name": "stderr",
     "output_type": "stream",
     "text": [
      "c:\\Anaconda\\lib\\site-packages\\xgboost\\core.py:587: FutureWarning: Series.base is deprecated and will be removed in a future version\n",
      "  if getattr(data, 'base', None) is not None and \\\n"
     ]
    },
    {
     "data": {
      "text/plain": [
       "732.9599909600503"
      ]
     },
     "execution_count": 18,
     "metadata": {},
     "output_type": "execute_result"
    }
   ],
   "source": [
    "import xgboost as xgb\n",
    "\n",
    "dtrain = xgb.DMatrix(train_num_features,label = train_num_label,nthread=-1)\n",
    "# param = {'max_depth': 2, 'eta': 1, 'silent': 1, 'objective': 'binary:logistic'}\n",
    "# num_round = 10\n",
    "bst = xgb.XGBRFRegressor(n_estimators=500,objective='reg:squarederror',n_jobs=-1)\n",
    "model = bst.fit(train_num_features,train_num_label)\n",
    "predict = model.predict(test_num_features)\n",
    "\n",
    "mean_squared_error(test_num_label,predict)\n"
   ]
  },
  {
   "cell_type": "code",
   "execution_count": 31,
   "metadata": {},
   "outputs": [],
   "source": []
  },
  {
   "cell_type": "markdown",
   "metadata": {},
   "source": [
    "### ---- 9 Test models ----"
   ]
  },
  {
   "cell_type": "code",
   "execution_count": 1,
   "metadata": {},
   "outputs": [],
   "source": [
    "#do 5-fold cross validation on models and measure MSE"
   ]
  },
  {
   "cell_type": "markdown",
   "metadata": {},
   "source": [
    "### ---- 10 Select best model  ----"
   ]
  },
  {
   "cell_type": "code",
   "execution_count": null,
   "metadata": {},
   "outputs": [],
   "source": [
    "#select the model with the lowest error as your \"prodcuction\" model"
   ]
  },
  {
   "cell_type": "markdown",
   "metadata": {},
   "source": [
    "## Part 4 - DEPLOY"
   ]
  },
  {
   "cell_type": "markdown",
   "metadata": {},
   "source": [
    "### ---- 11 Automate pipeline ----"
   ]
  },
  {
   "cell_type": "code",
   "execution_count": null,
   "metadata": {},
   "outputs": [],
   "source": [
    "#write script that trains model on entire training set, saves model to disk,\n",
    "#and scores the \"test\" dataset"
   ]
  },
  {
   "cell_type": "markdown",
   "metadata": {},
   "source": [
    "### ---- 12 Deploy solution ----"
   ]
  },
  {
   "cell_type": "code",
   "execution_count": 16,
   "metadata": {},
   "outputs": [],
   "source": [
    "#save your prediction to a csv file or optionally save them as a table in a SQL database\n",
    "#additionally, you want to save a visualization and summary of your prediction and feature importances\n",
    "#these visualizations and summaries will be extremely useful to business stakeholders"
   ]
  },
  {
   "cell_type": "markdown",
   "metadata": {},
   "source": [
    "### ---- 13 Measure efficacy ----"
   ]
  },
  {
   "cell_type": "markdown",
   "metadata": {},
   "source": [
    "We'll skip this step since we don't have the outcomes for the test data"
   ]
  },
  {
   "cell_type": "code",
   "execution_count": null,
   "metadata": {},
   "outputs": [],
   "source": []
  },
  {
   "cell_type": "code",
   "execution_count": null,
   "metadata": {},
   "outputs": [],
   "source": []
  },
  {
   "cell_type": "code",
   "execution_count": null,
   "metadata": {},
   "outputs": [],
   "source": []
  },
  {
   "cell_type": "code",
   "execution_count": null,
   "metadata": {},
   "outputs": [],
   "source": []
  }
 ],
 "metadata": {
  "kernelspec": {
   "display_name": "Python 3",
   "language": "python",
   "name": "python3"
  },
  "language_info": {
   "codemirror_mode": {
    "name": "ipython",
    "version": 3
   },
   "file_extension": ".py",
   "mimetype": "text/x-python",
   "name": "python",
   "nbconvert_exporter": "python",
   "pygments_lexer": "ipython3",
   "version": "3.7.0"
  }
 },
 "nbformat": 4,
 "nbformat_minor": 2
}
